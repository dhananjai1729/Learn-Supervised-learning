{
  "cells": [
    {
      "cell_type": "markdown",
      "metadata": {
        "id": "ytact8nxlrhH"
      },
      "source": [
        "Copyright (c) Microsoft Corporation. All rights reserved.\n",
        "\n",
        "Licensed under the MIT License.\n",
        "\n",
        "# AutoML with FLAML Library\n",
        "\n",
        "\n",
        "## 1. Introduction\n",
        "\n",
        "FLAML is a Python library (https://github.com/microsoft/FLAML) designed to automatically produce accurate machine learning models\n",
        "with low computational cost. It is fast and economical. The simple and lightweight design makes it easy to use and extend, such as adding new learners. FLAML can\n",
        "- serve as an economical AutoML engine,\n",
        "- be used as a fast hyperparameter tuning tool, or\n",
        "- be embedded in self-tuning software that requires low latency & resource in repetitive\n",
        "   tuning tasks.\n",
        "\n",
        "In this notebook, we use one real data example (binary classification) to showcase how to use FLAML library.\n",
        "\n",
        "FLAML requires `Python>=3.7`. To run this notebook example, please install flaml with the `notebook` option:\n",
        "```bash\n",
        "pip install flaml[notebook]\n",
        "```"
      ]
    },
    {
      "cell_type": "code",
      "execution_count": null,
      "metadata": {
        "colab": {
          "base_uri": "https://localhost:8080/"
        },
        "id": "wLpLDXj7lrhL",
        "outputId": "ea5fb366-04b2-40f6-e6e7-4416098b7448"
      },
      "outputs": [
        {
          "output_type": "stream",
          "name": "stdout",
          "text": [
            "Looking in indexes: https://pypi.org/simple, https://us-python.pkg.dev/colab-wheels/public/simple/\n",
            "Collecting flaml[notebook]\n",
            "  Downloading FLAML-1.0.14-py3-none-any.whl (208 kB)\n",
            "\u001b[K     |████████████████████████████████| 208 kB 4.8 MB/s \n",
            "\u001b[?25hCollecting lightgbm>=2.3.1\n",
            "  Downloading lightgbm-3.3.3-py3-none-manylinux1_x86_64.whl (2.0 MB)\n",
            "\u001b[K     |████████████████████████████████| 2.0 MB 45.4 MB/s \n",
            "\u001b[?25hRequirement already satisfied: NumPy>=1.17.0rc1 in /usr/local/lib/python3.8/dist-packages (from flaml[notebook]) (1.21.6)\n",
            "Requirement already satisfied: scikit-learn>=0.24 in /usr/local/lib/python3.8/dist-packages (from flaml[notebook]) (1.0.2)\n",
            "Requirement already satisfied: xgboost>=0.90 in /usr/local/lib/python3.8/dist-packages (from flaml[notebook]) (0.90)\n",
            "Requirement already satisfied: scipy>=1.4.1 in /usr/local/lib/python3.8/dist-packages (from flaml[notebook]) (1.7.3)\n",
            "Requirement already satisfied: pandas>=1.1.4 in /usr/local/lib/python3.8/dist-packages (from flaml[notebook]) (1.3.5)\n",
            "Collecting rgf-python\n",
            "  Downloading rgf_python-3.12.0-py3-none-manylinux1_x86_64.whl (757 kB)\n",
            "\u001b[K     |████████████████████████████████| 757 kB 43.8 MB/s \n",
            "\u001b[?25hRequirement already satisfied: matplotlib in /usr/local/lib/python3.8/dist-packages (from flaml[notebook]) (3.2.2)\n",
            "Collecting catboost>=0.26\n",
            "  Downloading catboost-1.1.1-cp38-none-manylinux1_x86_64.whl (76.6 MB)\n",
            "\u001b[K     |████████████████████████████████| 76.6 MB 20 kB/s \n",
            "\u001b[?25hCollecting jupyter\n",
            "  Downloading jupyter-1.0.0-py2.py3-none-any.whl (2.7 kB)\n",
            "Collecting openml==0.10.2\n",
            "  Downloading openml-0.10.2.tar.gz (158 kB)\n",
            "\u001b[K     |████████████████████████████████| 158 kB 37.0 MB/s \n",
            "\u001b[?25hCollecting liac-arff>=2.4.0\n",
            "  Downloading liac-arff-2.5.0.tar.gz (13 kB)\n",
            "Collecting xmltodict\n",
            "  Downloading xmltodict-0.13.0-py2.py3-none-any.whl (10.0 kB)\n",
            "Requirement already satisfied: requests in /usr/local/lib/python3.8/dist-packages (from openml==0.10.2->flaml[notebook]) (2.23.0)\n",
            "Requirement already satisfied: python-dateutil in /usr/local/lib/python3.8/dist-packages (from openml==0.10.2->flaml[notebook]) (2.8.2)\n",
            "Requirement already satisfied: plotly in /usr/local/lib/python3.8/dist-packages (from catboost>=0.26->flaml[notebook]) (5.5.0)\n",
            "Requirement already satisfied: six in /usr/local/lib/python3.8/dist-packages (from catboost>=0.26->flaml[notebook]) (1.15.0)\n",
            "Requirement already satisfied: graphviz in /usr/local/lib/python3.8/dist-packages (from catboost>=0.26->flaml[notebook]) (0.10.1)\n",
            "Requirement already satisfied: wheel in /usr/local/lib/python3.8/dist-packages (from lightgbm>=2.3.1->flaml[notebook]) (0.38.4)\n",
            "Requirement already satisfied: pytz>=2017.3 in /usr/local/lib/python3.8/dist-packages (from pandas>=1.1.4->flaml[notebook]) (2022.6)\n",
            "Requirement already satisfied: joblib>=0.11 in /usr/local/lib/python3.8/dist-packages (from scikit-learn>=0.24->flaml[notebook]) (1.2.0)\n",
            "Requirement already satisfied: threadpoolctl>=2.0.0 in /usr/local/lib/python3.8/dist-packages (from scikit-learn>=0.24->flaml[notebook]) (3.1.0)\n",
            "Requirement already satisfied: nbconvert in /usr/local/lib/python3.8/dist-packages (from jupyter->flaml[notebook]) (5.6.1)\n",
            "Requirement already satisfied: jupyter-console in /usr/local/lib/python3.8/dist-packages (from jupyter->flaml[notebook]) (6.1.0)\n",
            "Requirement already satisfied: ipywidgets in /usr/local/lib/python3.8/dist-packages (from jupyter->flaml[notebook]) (7.7.1)\n",
            "Requirement already satisfied: ipykernel in /usr/local/lib/python3.8/dist-packages (from jupyter->flaml[notebook]) (5.3.4)\n",
            "Collecting qtconsole\n",
            "  Downloading qtconsole-5.4.0-py3-none-any.whl (121 kB)\n",
            "\u001b[K     |████████████████████████████████| 121 kB 10.4 MB/s \n",
            "\u001b[?25hRequirement already satisfied: notebook in /usr/local/lib/python3.8/dist-packages (from jupyter->flaml[notebook]) (5.7.16)\n",
            "Requirement already satisfied: traitlets>=4.1.0 in /usr/local/lib/python3.8/dist-packages (from ipykernel->jupyter->flaml[notebook]) (5.6.0)\n",
            "Requirement already satisfied: tornado>=4.2 in /usr/local/lib/python3.8/dist-packages (from ipykernel->jupyter->flaml[notebook]) (6.0.4)\n",
            "Requirement already satisfied: ipython>=5.0.0 in /usr/local/lib/python3.8/dist-packages (from ipykernel->jupyter->flaml[notebook]) (7.9.0)\n",
            "Requirement already satisfied: jupyter-client in /usr/local/lib/python3.8/dist-packages (from ipykernel->jupyter->flaml[notebook]) (6.1.12)\n",
            "Requirement already satisfied: setuptools>=18.5 in /usr/local/lib/python3.8/dist-packages (from ipython>=5.0.0->ipykernel->jupyter->flaml[notebook]) (57.4.0)\n",
            "Requirement already satisfied: backcall in /usr/local/lib/python3.8/dist-packages (from ipython>=5.0.0->ipykernel->jupyter->flaml[notebook]) (0.2.0)\n",
            "Requirement already satisfied: prompt-toolkit<2.1.0,>=2.0.0 in /usr/local/lib/python3.8/dist-packages (from ipython>=5.0.0->ipykernel->jupyter->flaml[notebook]) (2.0.10)\n",
            "Requirement already satisfied: pexpect in /usr/local/lib/python3.8/dist-packages (from ipython>=5.0.0->ipykernel->jupyter->flaml[notebook]) (4.8.0)\n",
            "Requirement already satisfied: decorator in /usr/local/lib/python3.8/dist-packages (from ipython>=5.0.0->ipykernel->jupyter->flaml[notebook]) (4.4.2)\n",
            "Requirement already satisfied: pickleshare in /usr/local/lib/python3.8/dist-packages (from ipython>=5.0.0->ipykernel->jupyter->flaml[notebook]) (0.7.5)\n",
            "Requirement already satisfied: pygments in /usr/local/lib/python3.8/dist-packages (from ipython>=5.0.0->ipykernel->jupyter->flaml[notebook]) (2.6.1)\n",
            "Collecting jedi>=0.10\n",
            "  Downloading jedi-0.18.2-py2.py3-none-any.whl (1.6 MB)\n",
            "\u001b[K     |████████████████████████████████| 1.6 MB 15.2 MB/s \n",
            "\u001b[?25hRequirement already satisfied: parso<0.9.0,>=0.8.0 in /usr/local/lib/python3.8/dist-packages (from jedi>=0.10->ipython>=5.0.0->ipykernel->jupyter->flaml[notebook]) (0.8.3)\n",
            "Requirement already satisfied: wcwidth in /usr/local/lib/python3.8/dist-packages (from prompt-toolkit<2.1.0,>=2.0.0->ipython>=5.0.0->ipykernel->jupyter->flaml[notebook]) (0.2.5)\n",
            "Requirement already satisfied: jupyterlab-widgets>=1.0.0 in /usr/local/lib/python3.8/dist-packages (from ipywidgets->jupyter->flaml[notebook]) (3.0.3)\n",
            "Requirement already satisfied: ipython-genutils~=0.2.0 in /usr/local/lib/python3.8/dist-packages (from ipywidgets->jupyter->flaml[notebook]) (0.2.0)\n",
            "Requirement already satisfied: widgetsnbextension~=3.6.0 in /usr/local/lib/python3.8/dist-packages (from ipywidgets->jupyter->flaml[notebook]) (3.6.1)\n",
            "Requirement already satisfied: terminado>=0.8.1 in /usr/local/lib/python3.8/dist-packages (from notebook->jupyter->flaml[notebook]) (0.13.3)\n",
            "Requirement already satisfied: jinja2<=3.0.0 in /usr/local/lib/python3.8/dist-packages (from notebook->jupyter->flaml[notebook]) (2.11.3)\n",
            "Requirement already satisfied: nbformat in /usr/local/lib/python3.8/dist-packages (from notebook->jupyter->flaml[notebook]) (5.7.0)\n",
            "Requirement already satisfied: pyzmq>=17 in /usr/local/lib/python3.8/dist-packages (from notebook->jupyter->flaml[notebook]) (23.2.1)\n",
            "Requirement already satisfied: jupyter-core>=4.4.0 in /usr/local/lib/python3.8/dist-packages (from notebook->jupyter->flaml[notebook]) (5.1.0)\n",
            "Requirement already satisfied: Send2Trash in /usr/local/lib/python3.8/dist-packages (from notebook->jupyter->flaml[notebook]) (1.8.0)\n",
            "Requirement already satisfied: prometheus-client in /usr/local/lib/python3.8/dist-packages (from notebook->jupyter->flaml[notebook]) (0.15.0)\n",
            "Requirement already satisfied: MarkupSafe>=0.23 in /usr/local/lib/python3.8/dist-packages (from jinja2<=3.0.0->notebook->jupyter->flaml[notebook]) (2.0.1)\n",
            "Requirement already satisfied: platformdirs>=2.5 in /usr/local/lib/python3.8/dist-packages (from jupyter-core>=4.4.0->notebook->jupyter->flaml[notebook]) (2.5.4)\n",
            "Requirement already satisfied: pandocfilters>=1.4.1 in /usr/local/lib/python3.8/dist-packages (from nbconvert->jupyter->flaml[notebook]) (1.5.0)\n",
            "Requirement already satisfied: testpath in /usr/local/lib/python3.8/dist-packages (from nbconvert->jupyter->flaml[notebook]) (0.6.0)\n",
            "Requirement already satisfied: bleach in /usr/local/lib/python3.8/dist-packages (from nbconvert->jupyter->flaml[notebook]) (5.0.1)\n",
            "Requirement already satisfied: defusedxml in /usr/local/lib/python3.8/dist-packages (from nbconvert->jupyter->flaml[notebook]) (0.7.1)\n",
            "Requirement already satisfied: entrypoints>=0.2.2 in /usr/local/lib/python3.8/dist-packages (from nbconvert->jupyter->flaml[notebook]) (0.4)\n",
            "Requirement already satisfied: mistune<2,>=0.8.1 in /usr/local/lib/python3.8/dist-packages (from nbconvert->jupyter->flaml[notebook]) (0.8.4)\n",
            "Requirement already satisfied: fastjsonschema in /usr/local/lib/python3.8/dist-packages (from nbformat->notebook->jupyter->flaml[notebook]) (2.16.2)\n",
            "Requirement already satisfied: jsonschema>=2.6 in /usr/local/lib/python3.8/dist-packages (from nbformat->notebook->jupyter->flaml[notebook]) (4.3.3)\n",
            "Requirement already satisfied: pyrsistent!=0.17.0,!=0.17.1,!=0.17.2,>=0.14.0 in /usr/local/lib/python3.8/dist-packages (from jsonschema>=2.6->nbformat->notebook->jupyter->flaml[notebook]) (0.19.2)\n",
            "Requirement already satisfied: importlib-resources>=1.4.0 in /usr/local/lib/python3.8/dist-packages (from jsonschema>=2.6->nbformat->notebook->jupyter->flaml[notebook]) (5.10.0)\n",
            "Requirement already satisfied: attrs>=17.4.0 in /usr/local/lib/python3.8/dist-packages (from jsonschema>=2.6->nbformat->notebook->jupyter->flaml[notebook]) (22.1.0)\n",
            "Requirement already satisfied: zipp>=3.1.0 in /usr/local/lib/python3.8/dist-packages (from importlib-resources>=1.4.0->jsonschema>=2.6->nbformat->notebook->jupyter->flaml[notebook]) (3.11.0)\n",
            "Requirement already satisfied: ptyprocess in /usr/local/lib/python3.8/dist-packages (from terminado>=0.8.1->notebook->jupyter->flaml[notebook]) (0.7.0)\n",
            "Requirement already satisfied: webencodings in /usr/local/lib/python3.8/dist-packages (from bleach->nbconvert->jupyter->flaml[notebook]) (0.5.1)\n",
            "Requirement already satisfied: pyparsing!=2.0.4,!=2.1.2,!=2.1.6,>=2.0.1 in /usr/local/lib/python3.8/dist-packages (from matplotlib->flaml[notebook]) (3.0.9)\n",
            "Requirement already satisfied: cycler>=0.10 in /usr/local/lib/python3.8/dist-packages (from matplotlib->flaml[notebook]) (0.11.0)\n",
            "Requirement already satisfied: kiwisolver>=1.0.1 in /usr/local/lib/python3.8/dist-packages (from matplotlib->flaml[notebook]) (1.4.4)\n",
            "Requirement already satisfied: tenacity>=6.2.0 in /usr/local/lib/python3.8/dist-packages (from plotly->catboost>=0.26->flaml[notebook]) (8.1.0)\n",
            "Collecting qtpy>=2.0.1\n",
            "  Downloading QtPy-2.3.0-py3-none-any.whl (83 kB)\n",
            "\u001b[K     |████████████████████████████████| 83 kB 591 kB/s \n",
            "\u001b[?25hRequirement already satisfied: packaging in /usr/local/lib/python3.8/dist-packages (from qtpy>=2.0.1->qtconsole->jupyter->flaml[notebook]) (21.3)\n",
            "Requirement already satisfied: certifi>=2017.4.17 in /usr/local/lib/python3.8/dist-packages (from requests->openml==0.10.2->flaml[notebook]) (2022.9.24)\n",
            "Requirement already satisfied: idna<3,>=2.5 in /usr/local/lib/python3.8/dist-packages (from requests->openml==0.10.2->flaml[notebook]) (2.10)\n",
            "Requirement already satisfied: urllib3!=1.25.0,!=1.25.1,<1.26,>=1.21.1 in /usr/local/lib/python3.8/dist-packages (from requests->openml==0.10.2->flaml[notebook]) (1.24.3)\n",
            "Requirement already satisfied: chardet<4,>=3.0.2 in /usr/local/lib/python3.8/dist-packages (from requests->openml==0.10.2->flaml[notebook]) (3.0.4)\n",
            "Building wheels for collected packages: openml, liac-arff\n",
            "  Building wheel for openml (setup.py) ... \u001b[?25l\u001b[?25hdone\n",
            "  Created wheel for openml: filename=openml-0.10.2-py3-none-any.whl size=190317 sha256=a58344e390ede88d75f8626a82360bca5025c0d5821ebc493b0303a5f1cfe987\n",
            "  Stored in directory: /root/.cache/pip/wheels/e9/c7/af/50e65ac06e82af181b9ce080c156cd4c76fa2ea8904f28c7cd\n",
            "  Building wheel for liac-arff (setup.py) ... \u001b[?25l\u001b[?25hdone\n",
            "  Created wheel for liac-arff: filename=liac_arff-2.5.0-py3-none-any.whl size=11732 sha256=584ba2b6f6edcfe48df3e5ecdafc5bc1e5c89f51aad868db7c410cc9c54ed40b\n",
            "  Stored in directory: /root/.cache/pip/wheels/a2/de/68/bf3972de3ecb31e32bef59a7f4c75f0687a3674c476b347c14\n",
            "Successfully built openml liac-arff\n",
            "Installing collected packages: jedi, qtpy, xmltodict, qtconsole, lightgbm, liac-arff, rgf-python, openml, jupyter, flaml, catboost\n",
            "  Attempting uninstall: lightgbm\n",
            "    Found existing installation: lightgbm 2.2.3\n",
            "    Uninstalling lightgbm-2.2.3:\n",
            "      Successfully uninstalled lightgbm-2.2.3\n",
            "Successfully installed catboost-1.1.1 flaml-1.0.14 jedi-0.18.2 jupyter-1.0.0 liac-arff-2.5.0 lightgbm-3.3.3 openml-0.10.2 qtconsole-5.4.0 qtpy-2.3.0 rgf-python-3.12.0 xmltodict-0.13.0\n"
          ]
        }
      ],
      "source": [
        "%pip install flaml[notebook]\n",
        "# From v0.6.6, catboost is made an optional dependency to build conda package.\n",
        "# To install catboost, you can run:\n",
        "# %pip install flaml[catboost]"
      ]
    },
    {
      "cell_type": "markdown",
      "metadata": {
        "id": "YUx7IQOUlrhL"
      },
      "source": [
        "## 2. Classification Example\n",
        "### Load data and preprocess\n",
        "\n",
        "Download [Airlines dataset](https://www.openml.org/d/1169) from OpenML. The task is to predict whether a given flight will be delayed, given the information of the scheduled departure."
      ]
    },
    {
      "cell_type": "code",
      "execution_count": null,
      "metadata": {
        "tags": [],
        "colab": {
          "base_uri": "https://localhost:8080/"
        },
        "id": "r1oBilm9lrhM",
        "outputId": "160ce613-14bf-45e4-901c-a97a854b70e4"
      },
      "outputs": [
        {
          "output_type": "stream",
          "name": "stdout",
          "text": [
            "download dataset from openml\n"
          ]
        },
        {
          "output_type": "stream",
          "name": "stderr",
          "text": [
            "DEBUG:openml.datasets.dataset:Saved dataset 1169: airlines to file /root/.openml/cache/org/openml/www/datasets/1169/dataset.pkl.py3\n"
          ]
        },
        {
          "output_type": "stream",
          "name": "stdout",
          "text": [
            "Dataset name: airlines\n",
            "X_train.shape: (404537, 7), y_train.shape: (404537,);\n",
            "X_test.shape: (134846, 7), y_test.shape: (134846,)\n"
          ]
        }
      ],
      "source": [
        "from flaml.data import load_openml_dataset\n",
        "X_train, X_test, y_train, y_test = load_openml_dataset(dataset_id=1169, data_dir='./')"
      ]
    },
    {
      "cell_type": "markdown",
      "metadata": {
        "id": "1BNwb6_NlrhM"
      },
      "source": [
        "### Run FLAML\n",
        "In the FLAML automl run configuration, users can specify the task type, time budget, error metric, learner list, whether to subsample, resampling strategy type, and so on. All these arguments have default values which will be used if users do not provide them. For example, the default classifiers are `['lgbm', 'xgboost', 'xgb_limitdepth', 'catboost', 'rf', 'extra_tree', 'lrl1']`."
      ]
    },
    {
      "cell_type": "code",
      "execution_count": null,
      "metadata": {
        "id": "pgAevEWflrhM"
      },
      "outputs": [],
      "source": [
        "''' import AutoML class from flaml package '''\n",
        "from flaml import AutoML\n",
        "automl = AutoML()"
      ]
    },
    {
      "cell_type": "code",
      "execution_count": null,
      "metadata": {
        "id": "5NwgzhVmlrhM"
      },
      "outputs": [],
      "source": [
        "settings = {\n",
        "    \"time_budget\": 600,  # total running time in seconds\n",
        "    \"metric\": 'accuracy',\n",
        "                        # check the documentation for options of metrics (https://microsoft.github.io/FLAML/docs/Use-Cases/Task-Oriented-AutoML#optimization-metric)\n",
        "    \"task\": 'classification',  # task type\n",
        "    \"log_file_name\": 'airlines_experiment.log',  # flaml log file\n",
        "    \"seed\": 7654321,    # random seed\n",
        "}\n"
      ]
    },
    {
      "cell_type": "code",
      "execution_count": null,
      "metadata": {
        "tags": [
          "outputPrepend"
        ],
        "colab": {
          "base_uri": "https://localhost:8080/"
        },
        "id": "UhVuKtaBlrhN",
        "outputId": "9a332a29-a105-47d2-b03c-fe6edf7086c5"
      },
      "outputs": [
        {
          "output_type": "stream",
          "name": "stderr",
          "text": [
            "[flaml.automl: 12-08 11:59:54] {2599} INFO - task = classification\n",
            "INFO:flaml.automl:task = classification\n",
            "[flaml.automl: 12-08 11:59:54] {2601} INFO - Data split method: stratified\n",
            "INFO:flaml.automl:Data split method: stratified\n",
            "[flaml.automl: 12-08 11:59:54] {2604} INFO - Evaluation method: holdout\n",
            "INFO:flaml.automl:Evaluation method: holdout\n",
            "[flaml.automl: 12-08 11:59:54] {2726} INFO - Minimizing error metric: 1-accuracy\n",
            "INFO:flaml.automl:Minimizing error metric: 1-accuracy\n",
            "[flaml.automl: 12-08 11:59:54] {2870} INFO - List of ML learners in AutoML Run: ['lgbm', 'rf', 'catboost', 'xgboost', 'extra_tree', 'xgb_limitdepth', 'lrl1']\n",
            "INFO:flaml.automl:List of ML learners in AutoML Run: ['lgbm', 'rf', 'catboost', 'xgboost', 'extra_tree', 'xgb_limitdepth', 'lrl1']\n",
            "[flaml.automl: 12-08 11:59:54] {3166} INFO - iteration 0, current learner lgbm\n",
            "INFO:flaml.automl:iteration 0, current learner lgbm\n",
            "[flaml.automl: 12-08 11:59:54] {3296} INFO - Estimated sufficient time budget=33314s. Estimated necessary time budget=818s.\n",
            "INFO:flaml.automl:Estimated sufficient time budget=33314s. Estimated necessary time budget=818s.\n",
            "[flaml.automl: 12-08 11:59:54] {3343} INFO -  at 0.9s,\testimator lgbm's best error=0.3777,\tbest estimator lgbm's best error=0.3777\n",
            "INFO:flaml.automl: at 0.9s,\testimator lgbm's best error=0.3777,\tbest estimator lgbm's best error=0.3777\n",
            "[flaml.automl: 12-08 11:59:54] {3166} INFO - iteration 1, current learner lgbm\n",
            "INFO:flaml.automl:iteration 1, current learner lgbm\n",
            "[flaml.automl: 12-08 11:59:54] {3343} INFO -  at 1.0s,\testimator lgbm's best error=0.3777,\tbest estimator lgbm's best error=0.3777\n",
            "INFO:flaml.automl: at 1.0s,\testimator lgbm's best error=0.3777,\tbest estimator lgbm's best error=0.3777\n",
            "[flaml.automl: 12-08 11:59:54] {3166} INFO - iteration 2, current learner lgbm\n",
            "INFO:flaml.automl:iteration 2, current learner lgbm\n",
            "[flaml.automl: 12-08 11:59:54] {3343} INFO -  at 1.1s,\testimator lgbm's best error=0.3614,\tbest estimator lgbm's best error=0.3614\n",
            "INFO:flaml.automl: at 1.1s,\testimator lgbm's best error=0.3614,\tbest estimator lgbm's best error=0.3614\n",
            "[flaml.automl: 12-08 11:59:54] {3166} INFO - iteration 3, current learner lgbm\n",
            "INFO:flaml.automl:iteration 3, current learner lgbm\n",
            "[flaml.automl: 12-08 11:59:54] {3343} INFO -  at 1.3s,\testimator lgbm's best error=0.3614,\tbest estimator lgbm's best error=0.3614\n",
            "INFO:flaml.automl: at 1.3s,\testimator lgbm's best error=0.3614,\tbest estimator lgbm's best error=0.3614\n",
            "[flaml.automl: 12-08 11:59:54] {3166} INFO - iteration 4, current learner xgboost\n",
            "INFO:flaml.automl:iteration 4, current learner xgboost\n",
            "[flaml.automl: 12-08 11:59:55] {3343} INFO -  at 1.5s,\testimator xgboost's best error=0.3768,\tbest estimator lgbm's best error=0.3614\n",
            "INFO:flaml.automl: at 1.5s,\testimator xgboost's best error=0.3768,\tbest estimator lgbm's best error=0.3614\n",
            "[flaml.automl: 12-08 11:59:55] {3166} INFO - iteration 5, current learner extra_tree\n",
            "INFO:flaml.automl:iteration 5, current learner extra_tree\n",
            "[flaml.automl: 12-08 11:59:55] {3343} INFO -  at 1.6s,\testimator extra_tree's best error=0.4459,\tbest estimator lgbm's best error=0.3614\n",
            "INFO:flaml.automl: at 1.6s,\testimator extra_tree's best error=0.4459,\tbest estimator lgbm's best error=0.3614\n",
            "[flaml.automl: 12-08 11:59:55] {3166} INFO - iteration 6, current learner xgboost\n",
            "INFO:flaml.automl:iteration 6, current learner xgboost\n",
            "[flaml.automl: 12-08 11:59:55] {3343} INFO -  at 1.7s,\testimator xgboost's best error=0.3768,\tbest estimator lgbm's best error=0.3614\n",
            "INFO:flaml.automl: at 1.7s,\testimator xgboost's best error=0.3768,\tbest estimator lgbm's best error=0.3614\n",
            "[flaml.automl: 12-08 11:59:55] {3166} INFO - iteration 7, current learner lgbm\n",
            "INFO:flaml.automl:iteration 7, current learner lgbm\n",
            "[flaml.automl: 12-08 11:59:55] {3343} INFO -  at 1.8s,\testimator lgbm's best error=0.3614,\tbest estimator lgbm's best error=0.3614\n",
            "INFO:flaml.automl: at 1.8s,\testimator lgbm's best error=0.3614,\tbest estimator lgbm's best error=0.3614\n",
            "[flaml.automl: 12-08 11:59:55] {3166} INFO - iteration 8, current learner lgbm\n",
            "INFO:flaml.automl:iteration 8, current learner lgbm\n",
            "[flaml.automl: 12-08 11:59:55] {3343} INFO -  at 2.0s,\testimator lgbm's best error=0.3614,\tbest estimator lgbm's best error=0.3614\n",
            "INFO:flaml.automl: at 2.0s,\testimator lgbm's best error=0.3614,\tbest estimator lgbm's best error=0.3614\n",
            "[flaml.automl: 12-08 11:59:55] {3166} INFO - iteration 9, current learner xgboost\n",
            "INFO:flaml.automl:iteration 9, current learner xgboost\n",
            "[flaml.automl: 12-08 11:59:55] {3343} INFO -  at 2.2s,\testimator xgboost's best error=0.3622,\tbest estimator lgbm's best error=0.3614\n",
            "INFO:flaml.automl: at 2.2s,\testimator xgboost's best error=0.3622,\tbest estimator lgbm's best error=0.3614\n",
            "[flaml.automl: 12-08 11:59:55] {3166} INFO - iteration 10, current learner extra_tree\n",
            "INFO:flaml.automl:iteration 10, current learner extra_tree\n",
            "[flaml.automl: 12-08 11:59:55] {3343} INFO -  at 2.2s,\testimator extra_tree's best error=0.3752,\tbest estimator lgbm's best error=0.3614\n",
            "INFO:flaml.automl: at 2.2s,\testimator extra_tree's best error=0.3752,\tbest estimator lgbm's best error=0.3614\n",
            "[flaml.automl: 12-08 11:59:55] {3166} INFO - iteration 11, current learner extra_tree\n",
            "INFO:flaml.automl:iteration 11, current learner extra_tree\n",
            "[flaml.automl: 12-08 11:59:55] {3343} INFO -  at 2.4s,\testimator extra_tree's best error=0.3752,\tbest estimator lgbm's best error=0.3614\n",
            "INFO:flaml.automl: at 2.4s,\testimator extra_tree's best error=0.3752,\tbest estimator lgbm's best error=0.3614\n",
            "[flaml.automl: 12-08 11:59:55] {3166} INFO - iteration 12, current learner extra_tree\n",
            "INFO:flaml.automl:iteration 12, current learner extra_tree\n",
            "[flaml.automl: 12-08 11:59:56] {3343} INFO -  at 2.4s,\testimator extra_tree's best error=0.3752,\tbest estimator lgbm's best error=0.3614\n",
            "INFO:flaml.automl: at 2.4s,\testimator extra_tree's best error=0.3752,\tbest estimator lgbm's best error=0.3614\n",
            "[flaml.automl: 12-08 11:59:56] {3166} INFO - iteration 13, current learner xgboost\n",
            "INFO:flaml.automl:iteration 13, current learner xgboost\n",
            "[flaml.automl: 12-08 11:59:56] {3343} INFO -  at 2.9s,\testimator xgboost's best error=0.3606,\tbest estimator xgboost's best error=0.3606\n",
            "INFO:flaml.automl: at 2.9s,\testimator xgboost's best error=0.3606,\tbest estimator xgboost's best error=0.3606\n",
            "[flaml.automl: 12-08 11:59:56] {3166} INFO - iteration 14, current learner extra_tree\n",
            "INFO:flaml.automl:iteration 14, current learner extra_tree\n",
            "[flaml.automl: 12-08 11:59:56] {3343} INFO -  at 3.1s,\testimator extra_tree's best error=0.3752,\tbest estimator xgboost's best error=0.3606\n",
            "INFO:flaml.automl: at 3.1s,\testimator extra_tree's best error=0.3752,\tbest estimator xgboost's best error=0.3606\n",
            "[flaml.automl: 12-08 11:59:56] {3166} INFO - iteration 15, current learner rf\n",
            "INFO:flaml.automl:iteration 15, current learner rf\n",
            "[flaml.automl: 12-08 11:59:56] {3343} INFO -  at 3.1s,\testimator rf's best error=0.3792,\tbest estimator xgboost's best error=0.3606\n",
            "INFO:flaml.automl: at 3.1s,\testimator rf's best error=0.3792,\tbest estimator xgboost's best error=0.3606\n",
            "[flaml.automl: 12-08 11:59:56] {3166} INFO - iteration 16, current learner rf\n",
            "INFO:flaml.automl:iteration 16, current learner rf\n",
            "[flaml.automl: 12-08 11:59:56] {3343} INFO -  at 3.2s,\testimator rf's best error=0.3778,\tbest estimator xgboost's best error=0.3606\n",
            "INFO:flaml.automl: at 3.2s,\testimator rf's best error=0.3778,\tbest estimator xgboost's best error=0.3606\n",
            "[flaml.automl: 12-08 11:59:56] {3166} INFO - iteration 17, current learner extra_tree\n",
            "INFO:flaml.automl:iteration 17, current learner extra_tree\n",
            "[flaml.automl: 12-08 11:59:56] {3343} INFO -  at 3.3s,\testimator extra_tree's best error=0.3752,\tbest estimator xgboost's best error=0.3606\n",
            "INFO:flaml.automl: at 3.3s,\testimator extra_tree's best error=0.3752,\tbest estimator xgboost's best error=0.3606\n",
            "[flaml.automl: 12-08 11:59:56] {3166} INFO - iteration 18, current learner lgbm\n",
            "INFO:flaml.automl:iteration 18, current learner lgbm\n",
            "[flaml.automl: 12-08 11:59:57] {3343} INFO -  at 3.5s,\testimator lgbm's best error=0.3614,\tbest estimator xgboost's best error=0.3606\n",
            "INFO:flaml.automl: at 3.5s,\testimator lgbm's best error=0.3614,\tbest estimator xgboost's best error=0.3606\n",
            "[flaml.automl: 12-08 11:59:57] {3166} INFO - iteration 19, current learner extra_tree\n",
            "INFO:flaml.automl:iteration 19, current learner extra_tree\n",
            "[flaml.automl: 12-08 11:59:57] {3343} INFO -  at 3.7s,\testimator extra_tree's best error=0.3752,\tbest estimator xgboost's best error=0.3606\n",
            "INFO:flaml.automl: at 3.7s,\testimator extra_tree's best error=0.3752,\tbest estimator xgboost's best error=0.3606\n",
            "[flaml.automl: 12-08 11:59:57] {3166} INFO - iteration 20, current learner xgboost\n",
            "INFO:flaml.automl:iteration 20, current learner xgboost\n",
            "[flaml.automl: 12-08 11:59:57] {3343} INFO -  at 3.9s,\testimator xgboost's best error=0.3605,\tbest estimator xgboost's best error=0.3605\n",
            "INFO:flaml.automl: at 3.9s,\testimator xgboost's best error=0.3605,\tbest estimator xgboost's best error=0.3605\n",
            "[flaml.automl: 12-08 11:59:57] {3166} INFO - iteration 21, current learner xgboost\n",
            "INFO:flaml.automl:iteration 21, current learner xgboost\n",
            "[flaml.automl: 12-08 11:59:57] {3343} INFO -  at 4.0s,\testimator xgboost's best error=0.3605,\tbest estimator xgboost's best error=0.3605\n",
            "INFO:flaml.automl: at 4.0s,\testimator xgboost's best error=0.3605,\tbest estimator xgboost's best error=0.3605\n",
            "[flaml.automl: 12-08 11:59:57] {3166} INFO - iteration 22, current learner lgbm\n",
            "INFO:flaml.automl:iteration 22, current learner lgbm\n",
            "[flaml.automl: 12-08 11:59:57] {3343} INFO -  at 4.2s,\testimator lgbm's best error=0.3614,\tbest estimator xgboost's best error=0.3605\n",
            "INFO:flaml.automl: at 4.2s,\testimator lgbm's best error=0.3614,\tbest estimator xgboost's best error=0.3605\n",
            "[flaml.automl: 12-08 11:59:57] {3166} INFO - iteration 23, current learner lgbm\n",
            "INFO:flaml.automl:iteration 23, current learner lgbm\n",
            "[flaml.automl: 12-08 11:59:58] {3343} INFO -  at 4.4s,\testimator lgbm's best error=0.3550,\tbest estimator lgbm's best error=0.3550\n",
            "INFO:flaml.automl: at 4.4s,\testimator lgbm's best error=0.3550,\tbest estimator lgbm's best error=0.3550\n",
            "[flaml.automl: 12-08 11:59:58] {3166} INFO - iteration 24, current learner extra_tree\n",
            "INFO:flaml.automl:iteration 24, current learner extra_tree\n",
            "[flaml.automl: 12-08 11:59:58] {3343} INFO -  at 4.5s,\testimator extra_tree's best error=0.3752,\tbest estimator lgbm's best error=0.3550\n",
            "INFO:flaml.automl: at 4.5s,\testimator extra_tree's best error=0.3752,\tbest estimator lgbm's best error=0.3550\n",
            "[flaml.automl: 12-08 11:59:58] {3166} INFO - iteration 25, current learner extra_tree\n",
            "INFO:flaml.automl:iteration 25, current learner extra_tree\n",
            "[flaml.automl: 12-08 11:59:58] {3343} INFO -  at 4.7s,\testimator extra_tree's best error=0.3752,\tbest estimator lgbm's best error=0.3550\n",
            "INFO:flaml.automl: at 4.7s,\testimator extra_tree's best error=0.3752,\tbest estimator lgbm's best error=0.3550\n",
            "[flaml.automl: 12-08 11:59:58] {3166} INFO - iteration 26, current learner rf\n",
            "INFO:flaml.automl:iteration 26, current learner rf\n",
            "[flaml.automl: 12-08 11:59:58] {3343} INFO -  at 4.9s,\testimator rf's best error=0.3778,\tbest estimator lgbm's best error=0.3550\n",
            "INFO:flaml.automl: at 4.9s,\testimator rf's best error=0.3778,\tbest estimator lgbm's best error=0.3550\n",
            "[flaml.automl: 12-08 11:59:58] {3166} INFO - iteration 27, current learner extra_tree\n",
            "INFO:flaml.automl:iteration 27, current learner extra_tree\n",
            "[flaml.automl: 12-08 11:59:58] {3343} INFO -  at 5.0s,\testimator extra_tree's best error=0.3752,\tbest estimator lgbm's best error=0.3550\n",
            "INFO:flaml.automl: at 5.0s,\testimator extra_tree's best error=0.3752,\tbest estimator lgbm's best error=0.3550\n",
            "[flaml.automl: 12-08 11:59:58] {3166} INFO - iteration 28, current learner extra_tree\n",
            "INFO:flaml.automl:iteration 28, current learner extra_tree\n",
            "[flaml.automl: 12-08 11:59:58] {3343} INFO -  at 5.2s,\testimator extra_tree's best error=0.3752,\tbest estimator lgbm's best error=0.3550\n",
            "INFO:flaml.automl: at 5.2s,\testimator extra_tree's best error=0.3752,\tbest estimator lgbm's best error=0.3550\n",
            "[flaml.automl: 12-08 11:59:58] {3166} INFO - iteration 29, current learner extra_tree\n",
            "INFO:flaml.automl:iteration 29, current learner extra_tree\n",
            "[flaml.automl: 12-08 11:59:59] {3343} INFO -  at 5.6s,\testimator extra_tree's best error=0.3752,\tbest estimator lgbm's best error=0.3550\n",
            "INFO:flaml.automl: at 5.6s,\testimator extra_tree's best error=0.3752,\tbest estimator lgbm's best error=0.3550\n",
            "[flaml.automl: 12-08 11:59:59] {3166} INFO - iteration 30, current learner lgbm\n",
            "INFO:flaml.automl:iteration 30, current learner lgbm\n",
            "[flaml.automl: 12-08 11:59:59] {3343} INFO -  at 5.8s,\testimator lgbm's best error=0.3550,\tbest estimator lgbm's best error=0.3550\n",
            "INFO:flaml.automl: at 5.8s,\testimator lgbm's best error=0.3550,\tbest estimator lgbm's best error=0.3550\n",
            "[flaml.automl: 12-08 11:59:59] {3166} INFO - iteration 31, current learner lgbm\n",
            "INFO:flaml.automl:iteration 31, current learner lgbm\n",
            "[flaml.automl: 12-08 11:59:59] {3343} INFO -  at 6.3s,\testimator lgbm's best error=0.3545,\tbest estimator lgbm's best error=0.3545\n",
            "INFO:flaml.automl: at 6.3s,\testimator lgbm's best error=0.3545,\tbest estimator lgbm's best error=0.3545\n",
            "[flaml.automl: 12-08 11:59:59] {3166} INFO - iteration 32, current learner lgbm\n",
            "INFO:flaml.automl:iteration 32, current learner lgbm\n",
            "[flaml.automl: 12-08 12:00:00] {3343} INFO -  at 6.6s,\testimator lgbm's best error=0.3545,\tbest estimator lgbm's best error=0.3545\n",
            "INFO:flaml.automl: at 6.6s,\testimator lgbm's best error=0.3545,\tbest estimator lgbm's best error=0.3545\n",
            "[flaml.automl: 12-08 12:00:00] {3166} INFO - iteration 33, current learner extra_tree\n",
            "INFO:flaml.automl:iteration 33, current learner extra_tree\n",
            "[flaml.automl: 12-08 12:00:00] {3343} INFO -  at 7.2s,\testimator extra_tree's best error=0.3752,\tbest estimator lgbm's best error=0.3545\n",
            "INFO:flaml.automl: at 7.2s,\testimator extra_tree's best error=0.3752,\tbest estimator lgbm's best error=0.3545\n",
            "[flaml.automl: 12-08 12:00:00] {3166} INFO - iteration 34, current learner lgbm\n",
            "INFO:flaml.automl:iteration 34, current learner lgbm\n",
            "[flaml.automl: 12-08 12:00:01] {3343} INFO -  at 8.1s,\testimator lgbm's best error=0.3545,\tbest estimator lgbm's best error=0.3545\n",
            "INFO:flaml.automl: at 8.1s,\testimator lgbm's best error=0.3545,\tbest estimator lgbm's best error=0.3545\n",
            "[flaml.automl: 12-08 12:00:01] {3166} INFO - iteration 35, current learner lgbm\n",
            "INFO:flaml.automl:iteration 35, current learner lgbm\n",
            "[flaml.automl: 12-08 12:00:02] {3343} INFO -  at 8.4s,\testimator lgbm's best error=0.3536,\tbest estimator lgbm's best error=0.3536\n",
            "INFO:flaml.automl: at 8.4s,\testimator lgbm's best error=0.3536,\tbest estimator lgbm's best error=0.3536\n",
            "[flaml.automl: 12-08 12:00:02] {3166} INFO - iteration 36, current learner extra_tree\n",
            "INFO:flaml.automl:iteration 36, current learner extra_tree\n",
            "[flaml.automl: 12-08 12:00:02] {3343} INFO -  at 8.8s,\testimator extra_tree's best error=0.3752,\tbest estimator lgbm's best error=0.3536\n",
            "INFO:flaml.automl: at 8.8s,\testimator extra_tree's best error=0.3752,\tbest estimator lgbm's best error=0.3536\n",
            "[flaml.automl: 12-08 12:00:02] {3166} INFO - iteration 37, current learner lgbm\n",
            "INFO:flaml.automl:iteration 37, current learner lgbm\n",
            "[flaml.automl: 12-08 12:00:02] {3343} INFO -  at 9.3s,\testimator lgbm's best error=0.3536,\tbest estimator lgbm's best error=0.3536\n",
            "INFO:flaml.automl: at 9.3s,\testimator lgbm's best error=0.3536,\tbest estimator lgbm's best error=0.3536\n",
            "[flaml.automl: 12-08 12:00:02] {3166} INFO - iteration 38, current learner xgboost\n",
            "INFO:flaml.automl:iteration 38, current learner xgboost\n",
            "[flaml.automl: 12-08 12:00:03] {3343} INFO -  at 9.6s,\testimator xgboost's best error=0.3605,\tbest estimator lgbm's best error=0.3536\n",
            "INFO:flaml.automl: at 9.6s,\testimator xgboost's best error=0.3605,\tbest estimator lgbm's best error=0.3536\n",
            "[flaml.automl: 12-08 12:00:03] {3166} INFO - iteration 39, current learner lgbm\n",
            "INFO:flaml.automl:iteration 39, current learner lgbm\n",
            "[flaml.automl: 12-08 12:00:04] {3343} INFO -  at 10.6s,\testimator lgbm's best error=0.3536,\tbest estimator lgbm's best error=0.3536\n",
            "INFO:flaml.automl: at 10.6s,\testimator lgbm's best error=0.3536,\tbest estimator lgbm's best error=0.3536\n",
            "[flaml.automl: 12-08 12:00:04] {3166} INFO - iteration 40, current learner xgboost\n",
            "INFO:flaml.automl:iteration 40, current learner xgboost\n",
            "[flaml.automl: 12-08 12:00:04] {3343} INFO -  at 10.7s,\testimator xgboost's best error=0.3605,\tbest estimator lgbm's best error=0.3536\n",
            "INFO:flaml.automl: at 10.7s,\testimator xgboost's best error=0.3605,\tbest estimator lgbm's best error=0.3536\n",
            "[flaml.automl: 12-08 12:00:04] {3166} INFO - iteration 41, current learner extra_tree\n",
            "INFO:flaml.automl:iteration 41, current learner extra_tree\n",
            "[flaml.automl: 12-08 12:00:04] {3343} INFO -  at 11.2s,\testimator extra_tree's best error=0.3752,\tbest estimator lgbm's best error=0.3536\n",
            "INFO:flaml.automl: at 11.2s,\testimator extra_tree's best error=0.3752,\tbest estimator lgbm's best error=0.3536\n",
            "[flaml.automl: 12-08 12:00:04] {3166} INFO - iteration 42, current learner lgbm\n",
            "INFO:flaml.automl:iteration 42, current learner lgbm\n",
            "[flaml.automl: 12-08 12:00:06] {3343} INFO -  at 12.9s,\testimator lgbm's best error=0.3528,\tbest estimator lgbm's best error=0.3528\n",
            "INFO:flaml.automl: at 12.9s,\testimator lgbm's best error=0.3528,\tbest estimator lgbm's best error=0.3528\n",
            "[flaml.automl: 12-08 12:00:06] {3166} INFO - iteration 43, current learner catboost\n",
            "INFO:flaml.automl:iteration 43, current learner catboost\n",
            "[flaml.automl: 12-08 12:00:07] {3343} INFO -  at 14.3s,\testimator catboost's best error=0.3587,\tbest estimator lgbm's best error=0.3528\n",
            "INFO:flaml.automl: at 14.3s,\testimator catboost's best error=0.3587,\tbest estimator lgbm's best error=0.3528\n",
            "[flaml.automl: 12-08 12:00:07] {3166} INFO - iteration 44, current learner catboost\n",
            "INFO:flaml.automl:iteration 44, current learner catboost\n",
            "[flaml.automl: 12-08 12:00:08] {3343} INFO -  at 14.7s,\testimator catboost's best error=0.3587,\tbest estimator lgbm's best error=0.3528\n",
            "INFO:flaml.automl: at 14.7s,\testimator catboost's best error=0.3587,\tbest estimator lgbm's best error=0.3528\n",
            "[flaml.automl: 12-08 12:00:08] {3166} INFO - iteration 45, current learner extra_tree\n",
            "INFO:flaml.automl:iteration 45, current learner extra_tree\n",
            "[flaml.automl: 12-08 12:00:09] {3343} INFO -  at 15.7s,\testimator extra_tree's best error=0.3752,\tbest estimator lgbm's best error=0.3528\n",
            "INFO:flaml.automl: at 15.7s,\testimator extra_tree's best error=0.3752,\tbest estimator lgbm's best error=0.3528\n",
            "[flaml.automl: 12-08 12:00:09] {3166} INFO - iteration 46, current learner catboost\n",
            "INFO:flaml.automl:iteration 46, current learner catboost\n",
            "[flaml.automl: 12-08 12:00:11] {3343} INFO -  at 17.5s,\testimator catboost's best error=0.3587,\tbest estimator lgbm's best error=0.3528\n",
            "INFO:flaml.automl: at 17.5s,\testimator catboost's best error=0.3587,\tbest estimator lgbm's best error=0.3528\n",
            "[flaml.automl: 12-08 12:00:11] {3166} INFO - iteration 47, current learner rf\n",
            "INFO:flaml.automl:iteration 47, current learner rf\n",
            "[flaml.automl: 12-08 12:00:11] {3343} INFO -  at 17.6s,\testimator rf's best error=0.3778,\tbest estimator lgbm's best error=0.3528\n",
            "INFO:flaml.automl: at 17.6s,\testimator rf's best error=0.3778,\tbest estimator lgbm's best error=0.3528\n",
            "[flaml.automl: 12-08 12:00:11] {3166} INFO - iteration 48, current learner extra_tree\n",
            "INFO:flaml.automl:iteration 48, current learner extra_tree\n",
            "[flaml.automl: 12-08 12:00:12] {3343} INFO -  at 18.5s,\testimator extra_tree's best error=0.3752,\tbest estimator lgbm's best error=0.3528\n",
            "INFO:flaml.automl: at 18.5s,\testimator extra_tree's best error=0.3752,\tbest estimator lgbm's best error=0.3528\n",
            "[flaml.automl: 12-08 12:00:12] {3166} INFO - iteration 49, current learner lgbm\n",
            "INFO:flaml.automl:iteration 49, current learner lgbm\n",
            "[flaml.automl: 12-08 12:00:17] {3343} INFO -  at 23.8s,\testimator lgbm's best error=0.3405,\tbest estimator lgbm's best error=0.3405\n",
            "INFO:flaml.automl: at 23.8s,\testimator lgbm's best error=0.3405,\tbest estimator lgbm's best error=0.3405\n",
            "[flaml.automl: 12-08 12:00:17] {3166} INFO - iteration 50, current learner catboost\n",
            "INFO:flaml.automl:iteration 50, current learner catboost\n",
            "[flaml.automl: 12-08 12:00:25] {3343} INFO -  at 31.9s,\testimator catboost's best error=0.3587,\tbest estimator lgbm's best error=0.3405\n",
            "INFO:flaml.automl: at 31.9s,\testimator catboost's best error=0.3587,\tbest estimator lgbm's best error=0.3405\n",
            "[flaml.automl: 12-08 12:00:25] {3166} INFO - iteration 51, current learner extra_tree\n",
            "INFO:flaml.automl:iteration 51, current learner extra_tree\n",
            "[flaml.automl: 12-08 12:00:26] {3343} INFO -  at 32.8s,\testimator extra_tree's best error=0.3752,\tbest estimator lgbm's best error=0.3405\n",
            "INFO:flaml.automl: at 32.8s,\testimator extra_tree's best error=0.3752,\tbest estimator lgbm's best error=0.3405\n",
            "[flaml.automl: 12-08 12:00:26] {3166} INFO - iteration 52, current learner lgbm\n",
            "INFO:flaml.automl:iteration 52, current learner lgbm\n",
            "[flaml.automl: 12-08 12:00:28] {3343} INFO -  at 34.9s,\testimator lgbm's best error=0.3405,\tbest estimator lgbm's best error=0.3405\n",
            "INFO:flaml.automl: at 34.9s,\testimator lgbm's best error=0.3405,\tbest estimator lgbm's best error=0.3405\n",
            "[flaml.automl: 12-08 12:00:28] {3166} INFO - iteration 53, current learner lgbm\n",
            "INFO:flaml.automl:iteration 53, current learner lgbm\n",
            "[flaml.automl: 12-08 12:00:33] {3343} INFO -  at 39.9s,\testimator lgbm's best error=0.3370,\tbest estimator lgbm's best error=0.3370\n",
            "INFO:flaml.automl: at 39.9s,\testimator lgbm's best error=0.3370,\tbest estimator lgbm's best error=0.3370\n",
            "[flaml.automl: 12-08 12:00:33] {3166} INFO - iteration 54, current learner lgbm\n",
            "INFO:flaml.automl:iteration 54, current learner lgbm\n",
            "[flaml.automl: 12-08 12:00:50] {3343} INFO -  at 56.5s,\testimator lgbm's best error=0.3370,\tbest estimator lgbm's best error=0.3370\n",
            "INFO:flaml.automl: at 56.5s,\testimator lgbm's best error=0.3370,\tbest estimator lgbm's best error=0.3370\n",
            "[flaml.automl: 12-08 12:00:50] {3166} INFO - iteration 55, current learner lgbm\n",
            "INFO:flaml.automl:iteration 55, current learner lgbm\n",
            "[flaml.automl: 12-08 12:00:54] {3343} INFO -  at 60.7s,\testimator lgbm's best error=0.3370,\tbest estimator lgbm's best error=0.3370\n",
            "INFO:flaml.automl: at 60.7s,\testimator lgbm's best error=0.3370,\tbest estimator lgbm's best error=0.3370\n",
            "[flaml.automl: 12-08 12:00:54] {3166} INFO - iteration 56, current learner extra_tree\n",
            "INFO:flaml.automl:iteration 56, current learner extra_tree\n",
            "[flaml.automl: 12-08 12:00:54] {3343} INFO -  at 61.1s,\testimator extra_tree's best error=0.3752,\tbest estimator lgbm's best error=0.3370\n",
            "INFO:flaml.automl: at 61.1s,\testimator extra_tree's best error=0.3752,\tbest estimator lgbm's best error=0.3370\n",
            "[flaml.automl: 12-08 12:00:54] {3166} INFO - iteration 57, current learner rf\n",
            "INFO:flaml.automl:iteration 57, current learner rf\n",
            "[flaml.automl: 12-08 12:00:54] {3343} INFO -  at 61.3s,\testimator rf's best error=0.3764,\tbest estimator lgbm's best error=0.3370\n",
            "INFO:flaml.automl: at 61.3s,\testimator rf's best error=0.3764,\tbest estimator lgbm's best error=0.3370\n",
            "[flaml.automl: 12-08 12:00:54] {3166} INFO - iteration 58, current learner catboost\n",
            "INFO:flaml.automl:iteration 58, current learner catboost\n",
            "[flaml.automl: 12-08 12:01:00] {3343} INFO -  at 66.7s,\testimator catboost's best error=0.3499,\tbest estimator lgbm's best error=0.3370\n",
            "INFO:flaml.automl: at 66.7s,\testimator catboost's best error=0.3499,\tbest estimator lgbm's best error=0.3370\n",
            "[flaml.automl: 12-08 12:01:00] {3166} INFO - iteration 59, current learner xgb_limitdepth\n",
            "INFO:flaml.automl:iteration 59, current learner xgb_limitdepth\n",
            "[flaml.automl: 12-08 12:01:00] {3343} INFO -  at 66.9s,\testimator xgb_limitdepth's best error=0.3630,\tbest estimator lgbm's best error=0.3370\n",
            "INFO:flaml.automl: at 66.9s,\testimator xgb_limitdepth's best error=0.3630,\tbest estimator lgbm's best error=0.3370\n",
            "[flaml.automl: 12-08 12:01:00] {3166} INFO - iteration 60, current learner xgb_limitdepth\n",
            "INFO:flaml.automl:iteration 60, current learner xgb_limitdepth\n",
            "[flaml.automl: 12-08 12:01:00] {3343} INFO -  at 67.1s,\testimator xgb_limitdepth's best error=0.3630,\tbest estimator lgbm's best error=0.3370\n",
            "INFO:flaml.automl: at 67.1s,\testimator xgb_limitdepth's best error=0.3630,\tbest estimator lgbm's best error=0.3370\n",
            "[flaml.automl: 12-08 12:01:00] {3166} INFO - iteration 61, current learner extra_tree\n",
            "INFO:flaml.automl:iteration 61, current learner extra_tree\n",
            "[flaml.automl: 12-08 12:01:02] {3343} INFO -  at 68.6s,\testimator extra_tree's best error=0.3743,\tbest estimator lgbm's best error=0.3370\n",
            "INFO:flaml.automl: at 68.6s,\testimator extra_tree's best error=0.3743,\tbest estimator lgbm's best error=0.3370\n",
            "[flaml.automl: 12-08 12:01:02] {3166} INFO - iteration 62, current learner xgb_limitdepth\n",
            "INFO:flaml.automl:iteration 62, current learner xgb_limitdepth\n",
            "[flaml.automl: 12-08 12:01:02] {3343} INFO -  at 69.2s,\testimator xgb_limitdepth's best error=0.3630,\tbest estimator lgbm's best error=0.3370\n",
            "INFO:flaml.automl: at 69.2s,\testimator xgb_limitdepth's best error=0.3630,\tbest estimator lgbm's best error=0.3370\n",
            "[flaml.automl: 12-08 12:01:02] {3166} INFO - iteration 63, current learner xgb_limitdepth\n",
            "INFO:flaml.automl:iteration 63, current learner xgb_limitdepth\n",
            "[flaml.automl: 12-08 12:01:03] {3343} INFO -  at 69.7s,\testimator xgb_limitdepth's best error=0.3630,\tbest estimator lgbm's best error=0.3370\n",
            "INFO:flaml.automl: at 69.7s,\testimator xgb_limitdepth's best error=0.3630,\tbest estimator lgbm's best error=0.3370\n",
            "[flaml.automl: 12-08 12:01:03] {3166} INFO - iteration 64, current learner xgb_limitdepth\n",
            "INFO:flaml.automl:iteration 64, current learner xgb_limitdepth\n",
            "[flaml.automl: 12-08 12:01:04] {3343} INFO -  at 70.4s,\testimator xgb_limitdepth's best error=0.3572,\tbest estimator lgbm's best error=0.3370\n",
            "INFO:flaml.automl: at 70.4s,\testimator xgb_limitdepth's best error=0.3572,\tbest estimator lgbm's best error=0.3370\n",
            "[flaml.automl: 12-08 12:01:04] {3166} INFO - iteration 65, current learner xgb_limitdepth\n",
            "INFO:flaml.automl:iteration 65, current learner xgb_limitdepth\n",
            "[flaml.automl: 12-08 12:01:04] {3343} INFO -  at 70.7s,\testimator xgb_limitdepth's best error=0.3572,\tbest estimator lgbm's best error=0.3370\n",
            "INFO:flaml.automl: at 70.7s,\testimator xgb_limitdepth's best error=0.3572,\tbest estimator lgbm's best error=0.3370\n",
            "[flaml.automl: 12-08 12:01:04] {3166} INFO - iteration 66, current learner lrl1\n",
            "INFO:flaml.automl:iteration 66, current learner lrl1\n",
            "INFO:flaml.tune.searcher.blendsearch:No low-cost partial config given to the search algorithm. For cost-frugal search, consider providing low-cost values for cost-related hps via 'low_cost_partial_config'. More info can be found at https://microsoft.github.io/FLAML/docs/FAQ#about-low_cost_partial_config-in-tune\n",
            "/usr/local/lib/python3.8/dist-packages/sklearn/linear_model/_sag.py:352: ConvergenceWarning: The max_iter was reached which means the coef_ did not converge\n",
            "  warnings.warn(\n",
            "[flaml.automl: 12-08 12:01:04] {3343} INFO -  at 71.0s,\testimator lrl1's best error=0.4338,\tbest estimator lgbm's best error=0.3370\n",
            "INFO:flaml.automl: at 71.0s,\testimator lrl1's best error=0.4338,\tbest estimator lgbm's best error=0.3370\n",
            "[flaml.automl: 12-08 12:01:04] {3166} INFO - iteration 67, current learner lrl1\n",
            "INFO:flaml.automl:iteration 67, current learner lrl1\n",
            "/usr/local/lib/python3.8/dist-packages/sklearn/linear_model/_sag.py:352: ConvergenceWarning: The max_iter was reached which means the coef_ did not converge\n",
            "  warnings.warn(\n",
            "[flaml.automl: 12-08 12:01:04] {3343} INFO -  at 71.3s,\testimator lrl1's best error=0.4338,\tbest estimator lgbm's best error=0.3370\n",
            "INFO:flaml.automl: at 71.3s,\testimator lrl1's best error=0.4338,\tbest estimator lgbm's best error=0.3370\n",
            "[flaml.automl: 12-08 12:01:04] {3166} INFO - iteration 68, current learner lrl1\n",
            "INFO:flaml.automl:iteration 68, current learner lrl1\n",
            "/usr/local/lib/python3.8/dist-packages/sklearn/linear_model/_sag.py:352: ConvergenceWarning: The max_iter was reached which means the coef_ did not converge\n",
            "  warnings.warn(\n",
            "[flaml.automl: 12-08 12:01:05] {3343} INFO -  at 71.6s,\testimator lrl1's best error=0.4338,\tbest estimator lgbm's best error=0.3370\n",
            "INFO:flaml.automl: at 71.6s,\testimator lrl1's best error=0.4338,\tbest estimator lgbm's best error=0.3370\n",
            "[flaml.automl: 12-08 12:01:05] {3166} INFO - iteration 69, current learner lrl1\n",
            "INFO:flaml.automl:iteration 69, current learner lrl1\n",
            "/usr/local/lib/python3.8/dist-packages/sklearn/linear_model/_sag.py:352: ConvergenceWarning: The max_iter was reached which means the coef_ did not converge\n",
            "  warnings.warn(\n",
            "[flaml.automl: 12-08 12:01:06] {3343} INFO -  at 73.0s,\testimator lrl1's best error=0.4334,\tbest estimator lgbm's best error=0.3370\n",
            "INFO:flaml.automl: at 73.0s,\testimator lrl1's best error=0.4334,\tbest estimator lgbm's best error=0.3370\n",
            "[flaml.automl: 12-08 12:01:06] {3166} INFO - iteration 70, current learner rf\n",
            "INFO:flaml.automl:iteration 70, current learner rf\n",
            "[flaml.automl: 12-08 12:01:06] {3343} INFO -  at 73.3s,\testimator rf's best error=0.3712,\tbest estimator lgbm's best error=0.3370\n",
            "INFO:flaml.automl: at 73.3s,\testimator rf's best error=0.3712,\tbest estimator lgbm's best error=0.3370\n",
            "[flaml.automl: 12-08 12:01:06] {3166} INFO - iteration 71, current learner lgbm\n",
            "INFO:flaml.automl:iteration 71, current learner lgbm\n",
            "[flaml.automl: 12-08 12:01:15] {3343} INFO -  at 81.5s,\testimator lgbm's best error=0.3318,\tbest estimator lgbm's best error=0.3318\n",
            "INFO:flaml.automl: at 81.5s,\testimator lgbm's best error=0.3318,\tbest estimator lgbm's best error=0.3318\n",
            "[flaml.automl: 12-08 12:01:15] {3166} INFO - iteration 72, current learner rf\n",
            "INFO:flaml.automl:iteration 72, current learner rf\n",
            "[flaml.automl: 12-08 12:01:15] {3343} INFO -  at 81.6s,\testimator rf's best error=0.3712,\tbest estimator lgbm's best error=0.3318\n",
            "INFO:flaml.automl: at 81.6s,\testimator rf's best error=0.3712,\tbest estimator lgbm's best error=0.3318\n",
            "[flaml.automl: 12-08 12:01:15] {3166} INFO - iteration 73, current learner rf\n",
            "INFO:flaml.automl:iteration 73, current learner rf\n",
            "[flaml.automl: 12-08 12:01:15] {3343} INFO -  at 81.8s,\testimator rf's best error=0.3712,\tbest estimator lgbm's best error=0.3318\n",
            "INFO:flaml.automl: at 81.8s,\testimator rf's best error=0.3712,\tbest estimator lgbm's best error=0.3318\n",
            "[flaml.automl: 12-08 12:01:15] {3166} INFO - iteration 74, current learner rf\n",
            "INFO:flaml.automl:iteration 74, current learner rf\n",
            "[flaml.automl: 12-08 12:01:15] {3343} INFO -  at 82.0s,\testimator rf's best error=0.3712,\tbest estimator lgbm's best error=0.3318\n",
            "INFO:flaml.automl: at 82.0s,\testimator rf's best error=0.3712,\tbest estimator lgbm's best error=0.3318\n",
            "[flaml.automl: 12-08 12:01:15] {3166} INFO - iteration 75, current learner xgb_limitdepth\n",
            "INFO:flaml.automl:iteration 75, current learner xgb_limitdepth\n",
            "[flaml.automl: 12-08 12:01:16] {3343} INFO -  at 82.9s,\testimator xgb_limitdepth's best error=0.3572,\tbest estimator lgbm's best error=0.3318\n",
            "INFO:flaml.automl: at 82.9s,\testimator xgb_limitdepth's best error=0.3572,\tbest estimator lgbm's best error=0.3318\n",
            "[flaml.automl: 12-08 12:01:16] {3166} INFO - iteration 76, current learner rf\n",
            "INFO:flaml.automl:iteration 76, current learner rf\n",
            "[flaml.automl: 12-08 12:01:16] {3343} INFO -  at 83.1s,\testimator rf's best error=0.3712,\tbest estimator lgbm's best error=0.3318\n",
            "INFO:flaml.automl: at 83.1s,\testimator rf's best error=0.3712,\tbest estimator lgbm's best error=0.3318\n",
            "[flaml.automl: 12-08 12:01:16] {3166} INFO - iteration 77, current learner xgb_limitdepth\n",
            "INFO:flaml.automl:iteration 77, current learner xgb_limitdepth\n",
            "[flaml.automl: 12-08 12:01:17] {3343} INFO -  at 83.5s,\testimator xgb_limitdepth's best error=0.3572,\tbest estimator lgbm's best error=0.3318\n",
            "INFO:flaml.automl: at 83.5s,\testimator xgb_limitdepth's best error=0.3572,\tbest estimator lgbm's best error=0.3318\n",
            "[flaml.automl: 12-08 12:01:17] {3166} INFO - iteration 78, current learner lgbm\n",
            "INFO:flaml.automl:iteration 78, current learner lgbm\n",
            "[flaml.automl: 12-08 12:01:22] {3343} INFO -  at 88.6s,\testimator lgbm's best error=0.3282,\tbest estimator lgbm's best error=0.3282\n",
            "INFO:flaml.automl: at 88.6s,\testimator lgbm's best error=0.3282,\tbest estimator lgbm's best error=0.3282\n",
            "[flaml.automl: 12-08 12:01:22] {3166} INFO - iteration 79, current learner lgbm\n",
            "INFO:flaml.automl:iteration 79, current learner lgbm\n",
            "[flaml.automl: 12-08 12:01:28] {3343} INFO -  at 94.8s,\testimator lgbm's best error=0.3282,\tbest estimator lgbm's best error=0.3282\n",
            "INFO:flaml.automl: at 94.8s,\testimator lgbm's best error=0.3282,\tbest estimator lgbm's best error=0.3282\n",
            "[flaml.automl: 12-08 12:01:28] {3166} INFO - iteration 80, current learner rf\n",
            "INFO:flaml.automl:iteration 80, current learner rf\n",
            "[flaml.automl: 12-08 12:01:28] {3343} INFO -  at 95.0s,\testimator rf's best error=0.3712,\tbest estimator lgbm's best error=0.3282\n",
            "INFO:flaml.automl: at 95.0s,\testimator rf's best error=0.3712,\tbest estimator lgbm's best error=0.3282\n",
            "[flaml.automl: 12-08 12:01:28] {3166} INFO - iteration 81, current learner lgbm\n",
            "INFO:flaml.automl:iteration 81, current learner lgbm\n",
            "[flaml.automl: 12-08 12:01:34] {3343} INFO -  at 100.4s,\testimator lgbm's best error=0.3282,\tbest estimator lgbm's best error=0.3282\n",
            "INFO:flaml.automl: at 100.4s,\testimator lgbm's best error=0.3282,\tbest estimator lgbm's best error=0.3282\n",
            "[flaml.automl: 12-08 12:01:34] {3166} INFO - iteration 82, current learner lgbm\n",
            "INFO:flaml.automl:iteration 82, current learner lgbm\n",
            "[flaml.automl: 12-08 12:01:40] {3343} INFO -  at 106.4s,\testimator lgbm's best error=0.3282,\tbest estimator lgbm's best error=0.3282\n",
            "INFO:flaml.automl: at 106.4s,\testimator lgbm's best error=0.3282,\tbest estimator lgbm's best error=0.3282\n",
            "[flaml.automl: 12-08 12:01:40] {3166} INFO - iteration 83, current learner xgb_limitdepth\n",
            "INFO:flaml.automl:iteration 83, current learner xgb_limitdepth\n",
            "[flaml.automl: 12-08 12:01:41] {3343} INFO -  at 107.7s,\testimator xgb_limitdepth's best error=0.3572,\tbest estimator lgbm's best error=0.3282\n",
            "INFO:flaml.automl: at 107.7s,\testimator xgb_limitdepth's best error=0.3572,\tbest estimator lgbm's best error=0.3282\n",
            "[flaml.automl: 12-08 12:01:41] {3166} INFO - iteration 84, current learner lgbm\n",
            "INFO:flaml.automl:iteration 84, current learner lgbm\n",
            "[flaml.automl: 12-08 12:01:47] {3343} INFO -  at 113.5s,\testimator lgbm's best error=0.3282,\tbest estimator lgbm's best error=0.3282\n",
            "INFO:flaml.automl: at 113.5s,\testimator lgbm's best error=0.3282,\tbest estimator lgbm's best error=0.3282\n",
            "[flaml.automl: 12-08 12:01:47] {3166} INFO - iteration 85, current learner catboost\n",
            "INFO:flaml.automl:iteration 85, current learner catboost\n",
            "[flaml.automl: 12-08 12:01:50] {3343} INFO -  at 116.6s,\testimator catboost's best error=0.3481,\tbest estimator lgbm's best error=0.3282\n",
            "INFO:flaml.automl: at 116.6s,\testimator catboost's best error=0.3481,\tbest estimator lgbm's best error=0.3282\n",
            "[flaml.automl: 12-08 12:01:50] {3166} INFO - iteration 86, current learner catboost\n",
            "INFO:flaml.automl:iteration 86, current learner catboost\n",
            "[flaml.automl: 12-08 12:02:16] {3343} INFO -  at 143.3s,\testimator catboost's best error=0.3481,\tbest estimator lgbm's best error=0.3282\n",
            "INFO:flaml.automl: at 143.3s,\testimator catboost's best error=0.3481,\tbest estimator lgbm's best error=0.3282\n",
            "[flaml.automl: 12-08 12:02:16] {3166} INFO - iteration 87, current learner xgb_limitdepth\n",
            "INFO:flaml.automl:iteration 87, current learner xgb_limitdepth\n",
            "[flaml.automl: 12-08 12:02:22] {3343} INFO -  at 149.2s,\testimator xgb_limitdepth's best error=0.3532,\tbest estimator lgbm's best error=0.3282\n",
            "INFO:flaml.automl: at 149.2s,\testimator xgb_limitdepth's best error=0.3532,\tbest estimator lgbm's best error=0.3282\n",
            "[flaml.automl: 12-08 12:02:22] {3166} INFO - iteration 88, current learner rf\n",
            "INFO:flaml.automl:iteration 88, current learner rf\n",
            "[flaml.automl: 12-08 12:02:22] {3343} INFO -  at 149.4s,\testimator rf's best error=0.3712,\tbest estimator lgbm's best error=0.3282\n",
            "INFO:flaml.automl: at 149.4s,\testimator rf's best error=0.3712,\tbest estimator lgbm's best error=0.3282\n",
            "[flaml.automl: 12-08 12:02:22] {3166} INFO - iteration 89, current learner rf\n",
            "INFO:flaml.automl:iteration 89, current learner rf\n",
            "[flaml.automl: 12-08 12:02:23] {3343} INFO -  at 149.5s,\testimator rf's best error=0.3712,\tbest estimator lgbm's best error=0.3282\n",
            "INFO:flaml.automl: at 149.5s,\testimator rf's best error=0.3712,\tbest estimator lgbm's best error=0.3282\n",
            "[flaml.automl: 12-08 12:02:23] {3166} INFO - iteration 90, current learner lgbm\n",
            "INFO:flaml.automl:iteration 90, current learner lgbm\n",
            "[flaml.automl: 12-08 12:02:29] {3343} INFO -  at 155.9s,\testimator lgbm's best error=0.3282,\tbest estimator lgbm's best error=0.3282\n",
            "INFO:flaml.automl: at 155.9s,\testimator lgbm's best error=0.3282,\tbest estimator lgbm's best error=0.3282\n",
            "[flaml.automl: 12-08 12:02:29] {3166} INFO - iteration 91, current learner lgbm\n",
            "INFO:flaml.automl:iteration 91, current learner lgbm\n",
            "[flaml.automl: 12-08 12:02:33] {3343} INFO -  at 159.4s,\testimator lgbm's best error=0.3282,\tbest estimator lgbm's best error=0.3282\n",
            "INFO:flaml.automl: at 159.4s,\testimator lgbm's best error=0.3282,\tbest estimator lgbm's best error=0.3282\n",
            "[flaml.automl: 12-08 12:02:33] {3166} INFO - iteration 92, current learner xgb_limitdepth\n",
            "INFO:flaml.automl:iteration 92, current learner xgb_limitdepth\n",
            "[flaml.automl: 12-08 12:02:36] {3343} INFO -  at 163.0s,\testimator xgb_limitdepth's best error=0.3532,\tbest estimator lgbm's best error=0.3282\n",
            "INFO:flaml.automl: at 163.0s,\testimator xgb_limitdepth's best error=0.3532,\tbest estimator lgbm's best error=0.3282\n",
            "[flaml.automl: 12-08 12:02:36] {3166} INFO - iteration 93, current learner rf\n",
            "INFO:flaml.automl:iteration 93, current learner rf\n",
            "[flaml.automl: 12-08 12:02:36] {3343} INFO -  at 163.1s,\testimator rf's best error=0.3712,\tbest estimator lgbm's best error=0.3282\n",
            "INFO:flaml.automl: at 163.1s,\testimator rf's best error=0.3712,\tbest estimator lgbm's best error=0.3282\n",
            "[flaml.automl: 12-08 12:02:36] {3166} INFO - iteration 94, current learner xgb_limitdepth\n",
            "INFO:flaml.automl:iteration 94, current learner xgb_limitdepth\n",
            "[flaml.automl: 12-08 12:02:44] {3343} INFO -  at 170.9s,\testimator xgb_limitdepth's best error=0.3466,\tbest estimator lgbm's best error=0.3282\n",
            "INFO:flaml.automl: at 170.9s,\testimator xgb_limitdepth's best error=0.3466,\tbest estimator lgbm's best error=0.3282\n",
            "[flaml.automl: 12-08 12:02:44] {3166} INFO - iteration 95, current learner rf\n",
            "INFO:flaml.automl:iteration 95, current learner rf\n",
            "[flaml.automl: 12-08 12:02:44] {3343} INFO -  at 171.1s,\testimator rf's best error=0.3712,\tbest estimator lgbm's best error=0.3282\n",
            "INFO:flaml.automl: at 171.1s,\testimator rf's best error=0.3712,\tbest estimator lgbm's best error=0.3282\n",
            "[flaml.automl: 12-08 12:02:44] {3166} INFO - iteration 96, current learner rf\n",
            "INFO:flaml.automl:iteration 96, current learner rf\n",
            "[flaml.automl: 12-08 12:02:45] {3343} INFO -  at 171.5s,\testimator rf's best error=0.3712,\tbest estimator lgbm's best error=0.3282\n",
            "INFO:flaml.automl: at 171.5s,\testimator rf's best error=0.3712,\tbest estimator lgbm's best error=0.3282\n",
            "[flaml.automl: 12-08 12:02:45] {3166} INFO - iteration 97, current learner lgbm\n",
            "INFO:flaml.automl:iteration 97, current learner lgbm\n",
            "[flaml.automl: 12-08 12:02:55] {3343} INFO -  at 181.4s,\testimator lgbm's best error=0.3282,\tbest estimator lgbm's best error=0.3282\n",
            "INFO:flaml.automl: at 181.4s,\testimator lgbm's best error=0.3282,\tbest estimator lgbm's best error=0.3282\n",
            "[flaml.automl: 12-08 12:02:55] {3166} INFO - iteration 98, current learner xgb_limitdepth\n",
            "INFO:flaml.automl:iteration 98, current learner xgb_limitdepth\n",
            "[flaml.automl: 12-08 12:03:02] {3343} INFO -  at 188.4s,\testimator xgb_limitdepth's best error=0.3466,\tbest estimator lgbm's best error=0.3282\n",
            "INFO:flaml.automl: at 188.4s,\testimator xgb_limitdepth's best error=0.3466,\tbest estimator lgbm's best error=0.3282\n",
            "[flaml.automl: 12-08 12:03:02] {3166} INFO - iteration 99, current learner rf\n",
            "INFO:flaml.automl:iteration 99, current learner rf\n",
            "[flaml.automl: 12-08 12:03:02] {3343} INFO -  at 188.9s,\testimator rf's best error=0.3628,\tbest estimator lgbm's best error=0.3282\n",
            "INFO:flaml.automl: at 188.9s,\testimator rf's best error=0.3628,\tbest estimator lgbm's best error=0.3282\n",
            "[flaml.automl: 12-08 12:03:02] {3166} INFO - iteration 100, current learner rf\n",
            "INFO:flaml.automl:iteration 100, current learner rf\n",
            "[flaml.automl: 12-08 12:03:02] {3343} INFO -  at 189.3s,\testimator rf's best error=0.3628,\tbest estimator lgbm's best error=0.3282\n",
            "INFO:flaml.automl: at 189.3s,\testimator rf's best error=0.3628,\tbest estimator lgbm's best error=0.3282\n",
            "[flaml.automl: 12-08 12:03:02] {3166} INFO - iteration 101, current learner rf\n",
            "INFO:flaml.automl:iteration 101, current learner rf\n",
            "[flaml.automl: 12-08 12:03:03] {3343} INFO -  at 189.5s,\testimator rf's best error=0.3628,\tbest estimator lgbm's best error=0.3282\n",
            "INFO:flaml.automl: at 189.5s,\testimator rf's best error=0.3628,\tbest estimator lgbm's best error=0.3282\n",
            "[flaml.automl: 12-08 12:03:03] {3166} INFO - iteration 102, current learner lgbm\n",
            "INFO:flaml.automl:iteration 102, current learner lgbm\n",
            "[flaml.automl: 12-08 12:03:24] {3343} INFO -  at 211.3s,\testimator lgbm's best error=0.3282,\tbest estimator lgbm's best error=0.3282\n",
            "INFO:flaml.automl: at 211.3s,\testimator lgbm's best error=0.3282,\tbest estimator lgbm's best error=0.3282\n",
            "[flaml.automl: 12-08 12:03:24] {3166} INFO - iteration 103, current learner xgb_limitdepth\n",
            "INFO:flaml.automl:iteration 103, current learner xgb_limitdepth\n",
            "[flaml.automl: 12-08 12:03:32] {3343} INFO -  at 218.5s,\testimator xgb_limitdepth's best error=0.3408,\tbest estimator lgbm's best error=0.3282\n",
            "INFO:flaml.automl: at 218.5s,\testimator xgb_limitdepth's best error=0.3408,\tbest estimator lgbm's best error=0.3282\n",
            "[flaml.automl: 12-08 12:03:32] {3166} INFO - iteration 104, current learner rf\n",
            "INFO:flaml.automl:iteration 104, current learner rf\n",
            "[flaml.automl: 12-08 12:03:32] {3343} INFO -  at 219.3s,\testimator rf's best error=0.3572,\tbest estimator lgbm's best error=0.3282\n",
            "INFO:flaml.automl: at 219.3s,\testimator rf's best error=0.3572,\tbest estimator lgbm's best error=0.3282\n",
            "[flaml.automl: 12-08 12:03:32] {3166} INFO - iteration 105, current learner lgbm\n",
            "INFO:flaml.automl:iteration 105, current learner lgbm\n",
            "[flaml.automl: 12-08 12:03:34] {3343} INFO -  at 221.2s,\testimator lgbm's best error=0.3282,\tbest estimator lgbm's best error=0.3282\n",
            "INFO:flaml.automl: at 221.2s,\testimator lgbm's best error=0.3282,\tbest estimator lgbm's best error=0.3282\n",
            "[flaml.automl: 12-08 12:03:34] {3166} INFO - iteration 106, current learner rf\n",
            "INFO:flaml.automl:iteration 106, current learner rf\n",
            "[flaml.automl: 12-08 12:03:35] {3343} INFO -  at 222.0s,\testimator rf's best error=0.3572,\tbest estimator lgbm's best error=0.3282\n",
            "INFO:flaml.automl: at 222.0s,\testimator rf's best error=0.3572,\tbest estimator lgbm's best error=0.3282\n",
            "[flaml.automl: 12-08 12:03:35] {3166} INFO - iteration 107, current learner rf\n",
            "INFO:flaml.automl:iteration 107, current learner rf\n",
            "[flaml.automl: 12-08 12:03:36] {3343} INFO -  at 223.0s,\testimator rf's best error=0.3572,\tbest estimator lgbm's best error=0.3282\n",
            "INFO:flaml.automl: at 223.0s,\testimator rf's best error=0.3572,\tbest estimator lgbm's best error=0.3282\n",
            "[flaml.automl: 12-08 12:03:36] {3166} INFO - iteration 108, current learner rf\n",
            "INFO:flaml.automl:iteration 108, current learner rf\n",
            "[flaml.automl: 12-08 12:03:37] {3343} INFO -  at 223.7s,\testimator rf's best error=0.3568,\tbest estimator lgbm's best error=0.3282\n",
            "INFO:flaml.automl: at 223.7s,\testimator rf's best error=0.3568,\tbest estimator lgbm's best error=0.3282\n",
            "[flaml.automl: 12-08 12:03:37] {3166} INFO - iteration 109, current learner xgb_limitdepth\n",
            "INFO:flaml.automl:iteration 109, current learner xgb_limitdepth\n",
            "[flaml.automl: 12-08 12:03:44] {3343} INFO -  at 231.2s,\testimator xgb_limitdepth's best error=0.3408,\tbest estimator lgbm's best error=0.3282\n",
            "INFO:flaml.automl: at 231.2s,\testimator xgb_limitdepth's best error=0.3408,\tbest estimator lgbm's best error=0.3282\n",
            "[flaml.automl: 12-08 12:03:44] {3166} INFO - iteration 110, current learner lgbm\n",
            "INFO:flaml.automl:iteration 110, current learner lgbm\n",
            "[flaml.automl: 12-08 12:04:19] {3343} INFO -  at 265.9s,\testimator lgbm's best error=0.3282,\tbest estimator lgbm's best error=0.3282\n",
            "INFO:flaml.automl: at 265.9s,\testimator lgbm's best error=0.3282,\tbest estimator lgbm's best error=0.3282\n",
            "[flaml.automl: 12-08 12:04:19] {3166} INFO - iteration 111, current learner xgb_limitdepth\n",
            "INFO:flaml.automl:iteration 111, current learner xgb_limitdepth\n",
            "[flaml.automl: 12-08 12:04:25] {3343} INFO -  at 271.7s,\testimator xgb_limitdepth's best error=0.3402,\tbest estimator lgbm's best error=0.3282\n",
            "INFO:flaml.automl: at 271.7s,\testimator xgb_limitdepth's best error=0.3402,\tbest estimator lgbm's best error=0.3282\n",
            "[flaml.automl: 12-08 12:04:25] {3166} INFO - iteration 112, current learner catboost\n",
            "INFO:flaml.automl:iteration 112, current learner catboost\n",
            "[flaml.automl: 12-08 12:04:51] {3343} INFO -  at 298.2s,\testimator catboost's best error=0.3384,\tbest estimator lgbm's best error=0.3282\n",
            "INFO:flaml.automl: at 298.2s,\testimator catboost's best error=0.3384,\tbest estimator lgbm's best error=0.3282\n",
            "[flaml.automl: 12-08 12:04:51] {3166} INFO - iteration 113, current learner lgbm\n",
            "INFO:flaml.automl:iteration 113, current learner lgbm\n",
            "[flaml.automl: 12-08 12:04:53] {3343} INFO -  at 299.7s,\testimator lgbm's best error=0.3282,\tbest estimator lgbm's best error=0.3282\n",
            "INFO:flaml.automl: at 299.7s,\testimator lgbm's best error=0.3282,\tbest estimator lgbm's best error=0.3282\n",
            "[flaml.automl: 12-08 12:04:53] {3166} INFO - iteration 114, current learner xgb_limitdepth\n",
            "INFO:flaml.automl:iteration 114, current learner xgb_limitdepth\n",
            "[flaml.automl: 12-08 12:05:00] {3343} INFO -  at 307.4s,\testimator xgb_limitdepth's best error=0.3378,\tbest estimator lgbm's best error=0.3282\n",
            "INFO:flaml.automl: at 307.4s,\testimator xgb_limitdepth's best error=0.3378,\tbest estimator lgbm's best error=0.3282\n",
            "[flaml.automl: 12-08 12:05:01] {3166} INFO - iteration 115, current learner xgb_limitdepth\n",
            "INFO:flaml.automl:iteration 115, current learner xgb_limitdepth\n",
            "[flaml.automl: 12-08 12:05:07] {3343} INFO -  at 313.7s,\testimator xgb_limitdepth's best error=0.3378,\tbest estimator lgbm's best error=0.3282\n",
            "INFO:flaml.automl: at 313.7s,\testimator xgb_limitdepth's best error=0.3378,\tbest estimator lgbm's best error=0.3282\n",
            "[flaml.automl: 12-08 12:05:07] {3166} INFO - iteration 116, current learner lrl1\n",
            "INFO:flaml.automl:iteration 116, current learner lrl1\n",
            "/usr/local/lib/python3.8/dist-packages/sklearn/linear_model/_sag.py:352: ConvergenceWarning: The max_iter was reached which means the coef_ did not converge\n",
            "  warnings.warn(\n",
            "[flaml.automl: 12-08 12:05:08] {3343} INFO -  at 315.0s,\testimator lrl1's best error=0.4334,\tbest estimator lgbm's best error=0.3282\n",
            "INFO:flaml.automl: at 315.0s,\testimator lrl1's best error=0.4334,\tbest estimator lgbm's best error=0.3282\n",
            "[flaml.automl: 12-08 12:05:08] {3166} INFO - iteration 117, current learner lgbm\n",
            "INFO:flaml.automl:iteration 117, current learner lgbm\n",
            "[flaml.automl: 12-08 12:05:14] {3343} INFO -  at 321.2s,\testimator lgbm's best error=0.3282,\tbest estimator lgbm's best error=0.3282\n",
            "INFO:flaml.automl: at 321.2s,\testimator lgbm's best error=0.3282,\tbest estimator lgbm's best error=0.3282\n",
            "[flaml.automl: 12-08 12:05:14] {3166} INFO - iteration 118, current learner lgbm\n",
            "INFO:flaml.automl:iteration 118, current learner lgbm\n",
            "[flaml.automl: 12-08 12:05:19] {3343} INFO -  at 326.1s,\testimator lgbm's best error=0.3282,\tbest estimator lgbm's best error=0.3282\n",
            "INFO:flaml.automl: at 326.1s,\testimator lgbm's best error=0.3282,\tbest estimator lgbm's best error=0.3282\n",
            "[flaml.automl: 12-08 12:05:19] {3166} INFO - iteration 119, current learner xgb_limitdepth\n",
            "INFO:flaml.automl:iteration 119, current learner xgb_limitdepth\n",
            "[flaml.automl: 12-08 12:05:27] {3343} INFO -  at 334.0s,\testimator xgb_limitdepth's best error=0.3378,\tbest estimator lgbm's best error=0.3282\n",
            "INFO:flaml.automl: at 334.0s,\testimator xgb_limitdepth's best error=0.3378,\tbest estimator lgbm's best error=0.3282\n",
            "[flaml.automl: 12-08 12:05:27] {3166} INFO - iteration 120, current learner xgboost\n",
            "INFO:flaml.automl:iteration 120, current learner xgboost\n",
            "[flaml.automl: 12-08 12:05:27] {3343} INFO -  at 334.4s,\testimator xgboost's best error=0.3594,\tbest estimator lgbm's best error=0.3282\n",
            "INFO:flaml.automl: at 334.4s,\testimator xgboost's best error=0.3594,\tbest estimator lgbm's best error=0.3282\n",
            "[flaml.automl: 12-08 12:05:28] {3166} INFO - iteration 121, current learner lgbm\n",
            "INFO:flaml.automl:iteration 121, current learner lgbm\n",
            "[flaml.automl: 12-08 12:05:35] {3343} INFO -  at 341.8s,\testimator lgbm's best error=0.3274,\tbest estimator lgbm's best error=0.3274\n",
            "INFO:flaml.automl: at 341.8s,\testimator lgbm's best error=0.3274,\tbest estimator lgbm's best error=0.3274\n",
            "[flaml.automl: 12-08 12:05:35] {3166} INFO - iteration 122, current learner xgboost\n",
            "INFO:flaml.automl:iteration 122, current learner xgboost\n",
            "[flaml.automl: 12-08 12:05:35] {3343} INFO -  at 342.1s,\testimator xgboost's best error=0.3594,\tbest estimator lgbm's best error=0.3274\n",
            "INFO:flaml.automl: at 342.1s,\testimator xgboost's best error=0.3594,\tbest estimator lgbm's best error=0.3274\n",
            "[flaml.automl: 12-08 12:05:35] {3166} INFO - iteration 123, current learner xgboost\n",
            "INFO:flaml.automl:iteration 123, current learner xgboost\n",
            "[flaml.automl: 12-08 12:05:36] {3343} INFO -  at 342.5s,\testimator xgboost's best error=0.3589,\tbest estimator lgbm's best error=0.3274\n",
            "INFO:flaml.automl: at 342.5s,\testimator xgboost's best error=0.3589,\tbest estimator lgbm's best error=0.3274\n",
            "[flaml.automl: 12-08 12:05:36] {3166} INFO - iteration 124, current learner xgb_limitdepth\n",
            "INFO:flaml.automl:iteration 124, current learner xgb_limitdepth\n",
            "[flaml.automl: 12-08 12:05:43] {3343} INFO -  at 349.8s,\testimator xgb_limitdepth's best error=0.3378,\tbest estimator lgbm's best error=0.3274\n",
            "INFO:flaml.automl: at 349.8s,\testimator xgb_limitdepth's best error=0.3378,\tbest estimator lgbm's best error=0.3274\n",
            "[flaml.automl: 12-08 12:05:43] {3166} INFO - iteration 125, current learner xgboost\n",
            "INFO:flaml.automl:iteration 125, current learner xgboost\n",
            "[flaml.automl: 12-08 12:05:43] {3343} INFO -  at 350.3s,\testimator xgboost's best error=0.3589,\tbest estimator lgbm's best error=0.3274\n",
            "INFO:flaml.automl: at 350.3s,\testimator xgboost's best error=0.3589,\tbest estimator lgbm's best error=0.3274\n",
            "[flaml.automl: 12-08 12:05:43] {3166} INFO - iteration 126, current learner lgbm\n",
            "INFO:flaml.automl:iteration 126, current learner lgbm\n",
            "[flaml.automl: 12-08 12:05:49] {3343} INFO -  at 355.4s,\testimator lgbm's best error=0.3274,\tbest estimator lgbm's best error=0.3274\n",
            "INFO:flaml.automl: at 355.4s,\testimator lgbm's best error=0.3274,\tbest estimator lgbm's best error=0.3274\n",
            "[flaml.automl: 12-08 12:05:49] {3166} INFO - iteration 127, current learner lgbm\n",
            "INFO:flaml.automl:iteration 127, current learner lgbm\n",
            "[flaml.automl: 12-08 12:05:52] {3343} INFO -  at 358.5s,\testimator lgbm's best error=0.3274,\tbest estimator lgbm's best error=0.3274\n",
            "INFO:flaml.automl: at 358.5s,\testimator lgbm's best error=0.3274,\tbest estimator lgbm's best error=0.3274\n",
            "[flaml.automl: 12-08 12:05:52] {3166} INFO - iteration 128, current learner lgbm\n",
            "INFO:flaml.automl:iteration 128, current learner lgbm\n",
            "[flaml.automl: 12-08 12:06:06] {3343} INFO -  at 372.6s,\testimator lgbm's best error=0.3268,\tbest estimator lgbm's best error=0.3268\n",
            "INFO:flaml.automl: at 372.6s,\testimator lgbm's best error=0.3268,\tbest estimator lgbm's best error=0.3268\n",
            "[flaml.automl: 12-08 12:06:06] {3166} INFO - iteration 129, current learner lgbm\n",
            "INFO:flaml.automl:iteration 129, current learner lgbm\n",
            "[flaml.automl: 12-08 12:06:13] {3343} INFO -  at 379.7s,\testimator lgbm's best error=0.3268,\tbest estimator lgbm's best error=0.3268\n",
            "INFO:flaml.automl: at 379.7s,\testimator lgbm's best error=0.3268,\tbest estimator lgbm's best error=0.3268\n",
            "[flaml.automl: 12-08 12:06:13] {3166} INFO - iteration 130, current learner lgbm\n",
            "INFO:flaml.automl:iteration 130, current learner lgbm\n",
            "[flaml.automl: 12-08 12:06:29] {3343} INFO -  at 396.2s,\testimator lgbm's best error=0.3250,\tbest estimator lgbm's best error=0.3250\n",
            "INFO:flaml.automl: at 396.2s,\testimator lgbm's best error=0.3250,\tbest estimator lgbm's best error=0.3250\n",
            "[flaml.automl: 12-08 12:06:29] {3166} INFO - iteration 131, current learner xgboost\n",
            "INFO:flaml.automl:iteration 131, current learner xgboost\n",
            "[flaml.automl: 12-08 12:06:30] {3343} INFO -  at 396.9s,\testimator xgboost's best error=0.3589,\tbest estimator lgbm's best error=0.3250\n",
            "INFO:flaml.automl: at 396.9s,\testimator xgboost's best error=0.3589,\tbest estimator lgbm's best error=0.3250\n",
            "[flaml.automl: 12-08 12:06:30] {3166} INFO - iteration 132, current learner lgbm\n",
            "INFO:flaml.automl:iteration 132, current learner lgbm\n",
            "[flaml.automl: 12-08 12:06:39] {3343} INFO -  at 405.8s,\testimator lgbm's best error=0.3250,\tbest estimator lgbm's best error=0.3250\n",
            "INFO:flaml.automl: at 405.8s,\testimator lgbm's best error=0.3250,\tbest estimator lgbm's best error=0.3250\n",
            "[flaml.automl: 12-08 12:06:39] {3166} INFO - iteration 133, current learner lgbm\n",
            "INFO:flaml.automl:iteration 133, current learner lgbm\n",
            "[flaml.automl: 12-08 12:07:21] {3343} INFO -  at 448.3s,\testimator lgbm's best error=0.3250,\tbest estimator lgbm's best error=0.3250\n",
            "INFO:flaml.automl: at 448.3s,\testimator lgbm's best error=0.3250,\tbest estimator lgbm's best error=0.3250\n",
            "[flaml.automl: 12-08 12:07:21] {3166} INFO - iteration 134, current learner xgboost\n",
            "INFO:flaml.automl:iteration 134, current learner xgboost\n",
            "[flaml.automl: 12-08 12:07:22] {3343} INFO -  at 448.6s,\testimator xgboost's best error=0.3582,\tbest estimator lgbm's best error=0.3250\n",
            "INFO:flaml.automl: at 448.6s,\testimator xgboost's best error=0.3582,\tbest estimator lgbm's best error=0.3250\n",
            "[flaml.automl: 12-08 12:07:22] {3166} INFO - iteration 135, current learner lgbm\n",
            "INFO:flaml.automl:iteration 135, current learner lgbm\n",
            "[flaml.automl: 12-08 12:07:43] {3343} INFO -  at 470.2s,\testimator lgbm's best error=0.3250,\tbest estimator lgbm's best error=0.3250\n",
            "INFO:flaml.automl: at 470.2s,\testimator lgbm's best error=0.3250,\tbest estimator lgbm's best error=0.3250\n",
            "[flaml.automl: 12-08 12:07:43] {3166} INFO - iteration 136, current learner lgbm\n",
            "INFO:flaml.automl:iteration 136, current learner lgbm\n",
            "[flaml.automl: 12-08 12:07:59] {3343} INFO -  at 486.2s,\testimator lgbm's best error=0.3250,\tbest estimator lgbm's best error=0.3250\n",
            "INFO:flaml.automl: at 486.2s,\testimator lgbm's best error=0.3250,\tbest estimator lgbm's best error=0.3250\n",
            "[flaml.automl: 12-08 12:07:59] {3166} INFO - iteration 137, current learner catboost\n",
            "INFO:flaml.automl:iteration 137, current learner catboost\n",
            "[flaml.automl: 12-08 12:09:53] {3343} INFO -  at 599.6s,\testimator catboost's best error=0.3384,\tbest estimator lgbm's best error=0.3250\n",
            "INFO:flaml.automl: at 599.6s,\testimator catboost's best error=0.3384,\tbest estimator lgbm's best error=0.3250\n",
            "[flaml.automl: 12-08 12:10:08] {3602} INFO - retrain lgbm for 15.4s\n",
            "INFO:flaml.automl:retrain lgbm for 15.4s\n",
            "[flaml.automl: 12-08 12:10:08] {3609} INFO - retrained model: LGBMClassifier(colsample_bytree=0.763983850698587,\n",
            "               learning_rate=0.08749366799403727, max_bin=127,\n",
            "               min_child_samples=128, n_estimators=302, num_leaves=466,\n",
            "               reg_alpha=0.09968008477303378, reg_lambda=23.22741934331899,\n",
            "               verbose=-1)\n",
            "INFO:flaml.automl:retrained model: LGBMClassifier(colsample_bytree=0.763983850698587,\n",
            "               learning_rate=0.08749366799403727, max_bin=127,\n",
            "               min_child_samples=128, n_estimators=302, num_leaves=466,\n",
            "               reg_alpha=0.09968008477303378, reg_lambda=23.22741934331899,\n",
            "               verbose=-1)\n",
            "[flaml.automl: 12-08 12:10:08] {2901} INFO - fit succeeded\n",
            "INFO:flaml.automl:fit succeeded\n",
            "[flaml.automl: 12-08 12:10:08] {2902} INFO - Time taken to find the best model: 396.2355773448944\n",
            "INFO:flaml.automl:Time taken to find the best model: 396.2355773448944\n"
          ]
        }
      ],
      "source": [
        "'''The main flaml automl API'''\n",
        "automl.fit(X_train=X_train, y_train=y_train, **settings)"
      ]
    },
    {
      "cell_type": "markdown",
      "metadata": {
        "id": "u-ztLjPglrhN"
      },
      "source": [
        "### Best model and metric"
      ]
    },
    {
      "cell_type": "code",
      "execution_count": null,
      "metadata": {
        "tags": [],
        "colab": {
          "base_uri": "https://localhost:8080/"
        },
        "id": "A0tOMCRdlrhO",
        "outputId": "b2f7f182-c507-4ea9-dc52-5943ce4900d7"
      },
      "outputs": [
        {
          "output_type": "stream",
          "name": "stdout",
          "text": [
            "Best ML leaner: lgbm\n",
            "Best hyperparmeter config: {'n_estimators': 302, 'num_leaves': 466, 'min_child_samples': 128, 'learning_rate': 0.08749366799403727, 'log_max_bin': 7, 'colsample_bytree': 0.763983850698587, 'reg_alpha': 0.09968008477303378, 'reg_lambda': 23.22741934331899, 'FLAML_sample_size': 364083}\n",
            "Best accuracy on validation data: 0.675\n",
            "Training duration of best run: 15.36 s\n"
          ]
        }
      ],
      "source": [
        "'''retrieve best config and best learner'''\n",
        "print('Best ML leaner:', automl.best_estimator)\n",
        "print('Best hyperparmeter config:', automl.best_config)\n",
        "print('Best accuracy on validation data: {0:.4g}'.format(1-automl.best_loss))\n",
        "print('Training duration of best run: {0:.4g} s'.format(automl.best_config_train_time))"
      ]
    },
    {
      "cell_type": "code",
      "execution_count": null,
      "metadata": {
        "colab": {
          "base_uri": "https://localhost:8080/"
        },
        "id": "fBQOpNkZlrhO",
        "outputId": "e1c6b185-1366-453a-cb98-1966da759986"
      },
      "outputs": [
        {
          "output_type": "execute_result",
          "data": {
            "text/plain": [
              "LGBMClassifier(colsample_bytree=0.763983850698587,\n",
              "               learning_rate=0.08749366799403727, max_bin=127,\n",
              "               min_child_samples=128, n_estimators=302, num_leaves=466,\n",
              "               reg_alpha=0.09968008477303378, reg_lambda=23.22741934331899,\n",
              "               verbose=-1)"
            ]
          },
          "metadata": {},
          "execution_count": 7
        }
      ],
      "source": [
        "automl.model.estimator"
      ]
    },
    {
      "cell_type": "code",
      "execution_count": null,
      "metadata": {
        "id": "MCtbfv-glrhO"
      },
      "outputs": [],
      "source": [
        "'''pickle and save the automl object'''\n",
        "import pickle\n",
        "with open('automl.pkl', 'wb') as f:\n",
        "    pickle.dump(automl, f, pickle.HIGHEST_PROTOCOL)\n",
        "'''load pickled automl object'''\n",
        "with open('automl.pkl', 'rb') as f:\n",
        "    automl = pickle.load(f)"
      ]
    },
    {
      "cell_type": "code",
      "execution_count": null,
      "metadata": {
        "tags": [],
        "colab": {
          "base_uri": "https://localhost:8080/"
        },
        "id": "WdSDM-iRlrhO",
        "outputId": "94e35af8-b6d8-4aa4-b12a-8c946c3e7831"
      },
      "outputs": [
        {
          "output_type": "stream",
          "name": "stdout",
          "text": [
            "Predicted labels ['1' '0' '1' ... '1' '0' '0']\n",
            "True labels 118331    0\n",
            "328182    0\n",
            "335454    0\n",
            "520591    1\n",
            "344651    0\n",
            "         ..\n",
            "367080    0\n",
            "203510    1\n",
            "254894    0\n",
            "296512    1\n",
            "362444    0\n",
            "Name: Delay, Length: 134846, dtype: category\n",
            "Categories (2, object): ['0' < '1']\n"
          ]
        }
      ],
      "source": [
        "'''compute predictions of testing dataset'''\n",
        "y_pred = automl.predict(X_test)\n",
        "print('Predicted labels', y_pred)\n",
        "print('True labels', y_test)\n",
        "y_pred_proba = automl.predict_proba(X_test)[:,1]"
      ]
    },
    {
      "cell_type": "code",
      "execution_count": null,
      "metadata": {
        "tags": [],
        "colab": {
          "base_uri": "https://localhost:8080/"
        },
        "id": "LVlHTghblrhO",
        "outputId": "f396903f-dc9f-468e-c279-319282b8e413"
      },
      "outputs": [
        {
          "output_type": "stream",
          "name": "stdout",
          "text": [
            "accuracy = 0.6732939797991784\n",
            "roc_auc = 0.7276250346550404\n",
            "log_loss = 0.6014655432027879\n"
          ]
        }
      ],
      "source": [
        "''' compute different metric values on testing dataset'''\n",
        "from flaml.ml import sklearn_metric_loss_score\n",
        "print('accuracy', '=', 1 - sklearn_metric_loss_score('accuracy', y_pred, y_test))\n",
        "print('roc_auc', '=', 1 - sklearn_metric_loss_score('roc_auc', y_pred_proba, y_test))\n",
        "print('log_loss', '=', sklearn_metric_loss_score('log_loss', y_pred_proba, y_test))"
      ]
    },
    {
      "cell_type": "markdown",
      "metadata": {
        "id": "u-GLGNpklrhP"
      },
      "source": [
        "See Section 4 for an accuracy comparison with default LightGBM and XGBoost.\n",
        "\n",
        "### Log history"
      ]
    },
    {
      "cell_type": "code",
      "execution_count": null,
      "metadata": {
        "tags": [],
        "colab": {
          "base_uri": "https://localhost:8080/"
        },
        "id": "9DiTUWwglrhP",
        "outputId": "98eb994f-4dac-4e06-8ed4-a5c85a811178"
      },
      "outputs": [
        {
          "output_type": "stream",
          "name": "stdout",
          "text": [
            "{'Current Learner': 'lgbm', 'Current Sample': 10000, 'Current Hyper-parameters': {'n_estimators': 4, 'num_leaves': 4, 'min_child_samples': 20, 'learning_rate': 0.09999999999999995, 'log_max_bin': 8, 'colsample_bytree': 1.0, 'reg_alpha': 0.0009765625, 'reg_lambda': 1.0, 'FLAML_sample_size': 10000}, 'Best Learner': 'lgbm', 'Best Hyper-parameters': {'n_estimators': 4, 'num_leaves': 4, 'min_child_samples': 20, 'learning_rate': 0.09999999999999995, 'log_max_bin': 8, 'colsample_bytree': 1.0, 'reg_alpha': 0.0009765625, 'reg_lambda': 1.0, 'FLAML_sample_size': 10000}}\n",
            "{'Current Learner': 'lgbm', 'Current Sample': 10000, 'Current Hyper-parameters': {'n_estimators': 26, 'num_leaves': 4, 'min_child_samples': 18, 'learning_rate': 0.2293009676418639, 'log_max_bin': 9, 'colsample_bytree': 0.9086551727646448, 'reg_alpha': 0.0015561782752413472, 'reg_lambda': 0.33127416269768944, 'FLAML_sample_size': 10000}, 'Best Learner': 'lgbm', 'Best Hyper-parameters': {'n_estimators': 26, 'num_leaves': 4, 'min_child_samples': 18, 'learning_rate': 0.2293009676418639, 'log_max_bin': 9, 'colsample_bytree': 0.9086551727646448, 'reg_alpha': 0.0015561782752413472, 'reg_lambda': 0.33127416269768944, 'FLAML_sample_size': 10000}}\n",
            "{'Current Learner': 'xgboost', 'Current Sample': 10000, 'Current Hyper-parameters': {'n_estimators': 129, 'max_leaves': 4, 'min_child_weight': 1.2498964566809219, 'learning_rate': 0.3574837022388901, 'subsample': 0.9773266280674643, 'colsample_bylevel': 0.9705283362807284, 'colsample_bytree': 0.8561269216168275, 'reg_alpha': 0.0021694711024901254, 'reg_lambda': 4.620219690690227, 'FLAML_sample_size': 10000}, 'Best Learner': 'xgboost', 'Best Hyper-parameters': {'n_estimators': 129, 'max_leaves': 4, 'min_child_weight': 1.2498964566809219, 'learning_rate': 0.3574837022388901, 'subsample': 0.9773266280674643, 'colsample_bylevel': 0.9705283362807284, 'colsample_bytree': 0.8561269216168275, 'reg_alpha': 0.0021694711024901254, 'reg_lambda': 4.620219690690227, 'FLAML_sample_size': 10000}}\n",
            "{'Current Learner': 'xgboost', 'Current Sample': 10000, 'Current Hyper-parameters': {'n_estimators': 28, 'max_leaves': 5, 'min_child_weight': 0.7500252416342552, 'learning_rate': 0.23798984382572066, 'subsample': 1.0, 'colsample_bylevel': 0.9045613143846261, 'colsample_bytree': 1.0, 'reg_alpha': 0.0009765625, 'reg_lambda': 0.48864254576029176, 'FLAML_sample_size': 10000}, 'Best Learner': 'xgboost', 'Best Hyper-parameters': {'n_estimators': 28, 'max_leaves': 5, 'min_child_weight': 0.7500252416342552, 'learning_rate': 0.23798984382572066, 'subsample': 1.0, 'colsample_bylevel': 0.9045613143846261, 'colsample_bytree': 1.0, 'reg_alpha': 0.0009765625, 'reg_lambda': 0.48864254576029176, 'FLAML_sample_size': 10000}}\n",
            "{'Current Learner': 'lgbm', 'Current Sample': 40000, 'Current Hyper-parameters': {'n_estimators': 55, 'num_leaves': 4, 'min_child_samples': 20, 'learning_rate': 0.43653962213332903, 'log_max_bin': 10, 'colsample_bytree': 0.8048558760626646, 'reg_alpha': 0.0009765625, 'reg_lambda': 0.23010605579846408, 'FLAML_sample_size': 40000}, 'Best Learner': 'lgbm', 'Best Hyper-parameters': {'n_estimators': 55, 'num_leaves': 4, 'min_child_samples': 20, 'learning_rate': 0.43653962213332903, 'log_max_bin': 10, 'colsample_bytree': 0.8048558760626646, 'reg_alpha': 0.0009765625, 'reg_lambda': 0.23010605579846408, 'FLAML_sample_size': 40000}}\n",
            "{'Current Learner': 'lgbm', 'Current Sample': 40000, 'Current Hyper-parameters': {'n_estimators': 90, 'num_leaves': 18, 'min_child_samples': 34, 'learning_rate': 0.35726266205297247, 'log_max_bin': 10, 'colsample_bytree': 0.9295656128173544, 'reg_alpha': 0.0009765625, 'reg_lambda': 0.1981463604305675, 'FLAML_sample_size': 40000}, 'Best Learner': 'lgbm', 'Best Hyper-parameters': {'n_estimators': 90, 'num_leaves': 18, 'min_child_samples': 34, 'learning_rate': 0.35726266205297247, 'log_max_bin': 10, 'colsample_bytree': 0.9295656128173544, 'reg_alpha': 0.0009765625, 'reg_lambda': 0.1981463604305675, 'FLAML_sample_size': 40000}}\n",
            "{'Current Learner': 'lgbm', 'Current Sample': 40000, 'Current Hyper-parameters': {'n_estimators': 56, 'num_leaves': 7, 'min_child_samples': 92, 'learning_rate': 0.23536463281405448, 'log_max_bin': 10, 'colsample_bytree': 0.9898009552962395, 'reg_alpha': 0.0009765625, 'reg_lambda': 0.14329426172643311, 'FLAML_sample_size': 40000}, 'Best Learner': 'lgbm', 'Best Hyper-parameters': {'n_estimators': 56, 'num_leaves': 7, 'min_child_samples': 92, 'learning_rate': 0.23536463281405448, 'log_max_bin': 10, 'colsample_bytree': 0.9898009552962395, 'reg_alpha': 0.0009765625, 'reg_lambda': 0.14329426172643311, 'FLAML_sample_size': 40000}}\n",
            "{'Current Learner': 'lgbm', 'Current Sample': 364083, 'Current Hyper-parameters': {'n_estimators': 56, 'num_leaves': 7, 'min_child_samples': 92, 'learning_rate': 0.23536463281405448, 'log_max_bin': 10, 'colsample_bytree': 0.9898009552962395, 'reg_alpha': 0.0009765625, 'reg_lambda': 0.14329426172643311, 'FLAML_sample_size': 364083}, 'Best Learner': 'lgbm', 'Best Hyper-parameters': {'n_estimators': 56, 'num_leaves': 7, 'min_child_samples': 92, 'learning_rate': 0.23536463281405448, 'log_max_bin': 10, 'colsample_bytree': 0.9898009552962395, 'reg_alpha': 0.0009765625, 'reg_lambda': 0.14329426172643311, 'FLAML_sample_size': 364083}}\n",
            "{'Current Learner': 'lgbm', 'Current Sample': 364083, 'Current Hyper-parameters': {'n_estimators': 179, 'num_leaves': 27, 'min_child_samples': 75, 'learning_rate': 0.09744966359309036, 'log_max_bin': 10, 'colsample_bytree': 1.0, 'reg_alpha': 0.002826104794043855, 'reg_lambda': 0.1457318237156161, 'FLAML_sample_size': 364083}, 'Best Learner': 'lgbm', 'Best Hyper-parameters': {'n_estimators': 179, 'num_leaves': 27, 'min_child_samples': 75, 'learning_rate': 0.09744966359309036, 'log_max_bin': 10, 'colsample_bytree': 1.0, 'reg_alpha': 0.002826104794043855, 'reg_lambda': 0.1457318237156161, 'FLAML_sample_size': 364083}}\n",
            "{'Current Learner': 'lgbm', 'Current Sample': 364083, 'Current Hyper-parameters': {'n_estimators': 180, 'num_leaves': 31, 'min_child_samples': 112, 'learning_rate': 0.14172261747380896, 'log_max_bin': 8, 'colsample_bytree': 0.9882716197099741, 'reg_alpha': 0.004676080321450302, 'reg_lambda': 2.704862827036818, 'FLAML_sample_size': 364083}, 'Best Learner': 'lgbm', 'Best Hyper-parameters': {'n_estimators': 180, 'num_leaves': 31, 'min_child_samples': 112, 'learning_rate': 0.14172261747380896, 'log_max_bin': 8, 'colsample_bytree': 0.9882716197099741, 'reg_alpha': 0.004676080321450302, 'reg_lambda': 2.704862827036818, 'FLAML_sample_size': 364083}}\n",
            "{'Current Learner': 'lgbm', 'Current Sample': 364083, 'Current Hyper-parameters': {'n_estimators': 284, 'num_leaves': 24, 'min_child_samples': 57, 'learning_rate': 0.34506374431782694, 'log_max_bin': 8, 'colsample_bytree': 0.9661606582789269, 'reg_alpha': 0.05708594148438563, 'reg_lambda': 3.0806435484123478, 'FLAML_sample_size': 364083}, 'Best Learner': 'lgbm', 'Best Hyper-parameters': {'n_estimators': 284, 'num_leaves': 24, 'min_child_samples': 57, 'learning_rate': 0.34506374431782694, 'log_max_bin': 8, 'colsample_bytree': 0.9661606582789269, 'reg_alpha': 0.05708594148438563, 'reg_lambda': 3.0806435484123478, 'FLAML_sample_size': 364083}}\n",
            "{'Current Learner': 'lgbm', 'Current Sample': 364083, 'Current Hyper-parameters': {'n_estimators': 150, 'num_leaves': 176, 'min_child_samples': 62, 'learning_rate': 0.2607939951456869, 'log_max_bin': 8, 'colsample_bytree': 1.0, 'reg_alpha': 0.015973158305354472, 'reg_lambda': 1.1581244082992255, 'FLAML_sample_size': 364083}, 'Best Learner': 'lgbm', 'Best Hyper-parameters': {'n_estimators': 150, 'num_leaves': 176, 'min_child_samples': 62, 'learning_rate': 0.2607939951456869, 'log_max_bin': 8, 'colsample_bytree': 1.0, 'reg_alpha': 0.015973158305354472, 'reg_lambda': 1.1581244082992255, 'FLAML_sample_size': 364083}}\n"
          ]
        }
      ],
      "source": [
        "from flaml.data import get_output_from_log\n",
        "time_history, best_valid_loss_history, valid_loss_history, config_history, metric_history = \\\n",
        "    get_output_from_log(filename=settings['log_file_name'], time_budget=240)\n",
        "for config in config_history:\n",
        "    print(config)"
      ]
    },
    {
      "cell_type": "code",
      "execution_count": null,
      "metadata": {
        "colab": {
          "base_uri": "https://localhost:8080/",
          "height": 295
        },
        "id": "RWHYHx3blrhP",
        "outputId": "48b01010-cd75-456e-af9c-9e12be95e3d2"
      },
      "outputs": [
        {
          "output_type": "display_data",
          "data": {
            "text/plain": [
              "<Figure size 432x288 with 1 Axes>"
            ],
            "image/png": "[encoded data removed]"
          },
          "metadata": {
            "needs_background": "light"
          }
        }
      ],
      "source": [
        "import matplotlib.pyplot as plt\n",
        "import numpy as np\n",
        "\n",
        "plt.title('Learning Curve')\n",
        "plt.xlabel('Wall Clock Time (s)')\n",
        "plt.ylabel('Validation Accuracy')\n",
        "plt.scatter(time_history, 1 - np.array(valid_loss_history))\n",
        "plt.step(time_history, 1 - np.array(best_valid_loss_history), where='post')\n",
        "plt.show()"
      ]
    },
    {
      "cell_type": "markdown",
      "metadata": {
        "id": "WjkgseEzlrhP"
      },
      "source": [
        "## 3. Comparison with alternatives\n"
      ]
    },
    {
      "cell_type": "markdown",
      "metadata": {
        "id": "hle-JePjlrhP"
      },
      "source": [
        "### Default LightGBM"
      ]
    },
    {
      "cell_type": "code",
      "execution_count": null,
      "metadata": {
        "id": "4oQwyrYPlrhP"
      },
      "outputs": [],
      "source": [
        "from lightgbm import LGBMClassifier\n",
        "lgbm = LGBMClassifier()"
      ]
    },
    {
      "cell_type": "code",
      "execution_count": null,
      "metadata": {
        "colab": {
          "base_uri": "https://localhost:8080/"
        },
        "id": "kbERwV0slrhP",
        "outputId": "8132c07c-f66a-4cff-cb96-af40424028da"
      },
      "outputs": [
        {
          "output_type": "execute_result",
          "data": {
            "text/plain": [
              "LGBMClassifier()"
            ]
          },
          "metadata": {},
          "execution_count": 14
        }
      ],
      "source": [
        "lgbm.fit(X_train, y_train)"
      ]
    },
    {
      "cell_type": "code",
      "execution_count": null,
      "metadata": {
        "id": "Xe0HUwW8lrhP"
      },
      "outputs": [],
      "source": [
        "y_pred_lgbm = lgbm.predict(X_test)"
      ]
    },
    {
      "cell_type": "markdown",
      "metadata": {
        "id": "dH3_PkgVlrhP"
      },
      "source": [
        "### Default XGBoost"
      ]
    },
    {
      "cell_type": "code",
      "execution_count": null,
      "metadata": {
        "id": "Ta23Nt9FlrhP"
      },
      "outputs": [],
      "source": [
        "from xgboost import XGBClassifier\n",
        "xgb = XGBClassifier()\n",
        "cat_columns = X_train.select_dtypes(include=['category']).columns\n",
        "X = X_train.copy()\n",
        "X[cat_columns] = X[cat_columns].apply(lambda x: x.cat.codes)\n"
      ]
    },
    {
      "cell_type": "code",
      "execution_count": null,
      "metadata": {
        "colab": {
          "base_uri": "https://localhost:8080/"
        },
        "id": "bCSE9XPRlrhQ",
        "outputId": "88b9f3cc-b1f0-4638-f3f5-f1c472444e1e"
      },
      "outputs": [
        {
          "output_type": "execute_result",
          "data": {
            "text/plain": [
              "XGBClassifier()"
            ]
          },
          "metadata": {},
          "execution_count": 17
        }
      ],
      "source": [
        "xgb.fit(X, y_train)"
      ]
    },
    {
      "cell_type": "code",
      "execution_count": null,
      "metadata": {
        "id": "LPiWCaTQlrhQ"
      },
      "outputs": [],
      "source": [
        "X = X_test.copy()\n",
        "X[cat_columns] = X[cat_columns].apply(lambda x: x.cat.codes)\n",
        "y_pred_xgb = xgb.predict(X)"
      ]
    },
    {
      "cell_type": "code",
      "execution_count": null,
      "metadata": {
        "colab": {
          "base_uri": "https://localhost:8080/"
        },
        "id": "bMRZTVNdlrhQ",
        "outputId": "c865dc42-a30a-4e36-9b8d-6ab9466feb25"
      },
      "outputs": [
        {
          "output_type": "stream",
          "name": "stdout",
          "text": [
            "default xgboost accuracy = 0.6492369072868309\n",
            "default lgbm accuracy = 0.6602346380315323\n",
            "flaml (10 min) accuracy = 0.6732939797991784\n"
          ]
        }
      ],
      "source": [
        "print('default xgboost accuracy', '=', 1 - sklearn_metric_loss_score('accuracy', y_pred_xgb, y_test))\n",
        "print('default lgbm accuracy', '=', 1 - sklearn_metric_loss_score('accuracy', y_pred_lgbm, y_test))\n",
        "print('flaml (10 min) accuracy', '=', 1 - sklearn_metric_loss_score('accuracy', y_pred, y_test))"
      ]
    },
    {
      "cell_type": "markdown",
      "metadata": {
        "id": "nGmjhmRwlrhQ"
      },
      "source": [
        "## 4. Customized Learner"
      ]
    },
    {
      "cell_type": "markdown",
      "metadata": {
        "id": "tNmiceeclrhQ"
      },
      "source": [
        "Some experienced automl users may have a preferred model to tune or may already have a reasonably by-hand-tuned model before launching the automl experiment. They need to select optimal configurations for the customized model mixed with standard built-in learners.\n",
        "\n",
        "FLAML can easily incorporate customized/new learners (preferably with sklearn API) provided by users in a real-time manner, as demonstrated below."
      ]
    },
    {
      "cell_type": "markdown",
      "metadata": {
        "id": "eB1T8KuvlrhQ"
      },
      "source": [
        "### Example of Regularized Greedy Forest\n",
        "\n",
        "[Regularized Greedy Forest](https://arxiv.org/abs/1109.0887) (RGF) is a machine learning method currently not included in FLAML. The RGF has many tuning parameters, the most critical of which are: `[max_leaf, n_iter, n_tree_search, opt_interval, min_samples_leaf]`. To run a customized/new learner, the user needs to provide the following information:\n",
        "* an implementation of the customized/new learner\n",
        "* a list of hyperparameter names and types\n",
        "* rough ranges of hyperparameters (i.e., upper/lower bounds)\n",
        "* choose initial value corresponding to low cost for cost-related hyperparameters (e.g., initial value for max_leaf and n_iter should be small)\n",
        "\n",
        "In this example, the above information for RGF is wrapped in a python class called *MyRegularizedGreedyForest* that exposes the hyperparameters."
      ]
    },
    {
      "cell_type": "code",
      "execution_count": null,
      "metadata": {
        "colab": {
          "base_uri": "https://localhost:8080/"
        },
        "id": "jDTNvJz8lrhQ",
        "outputId": "a764bf8f-be33-4398-d622-df76e0da566a"
      },
      "outputs": [
        {
          "output_type": "stream",
          "name": "stdout",
          "text": [
            "Looking in indexes: https://pypi.org/simple, https://us-python.pkg.dev/colab-wheels/public/simple/\n",
            "Requirement already satisfied: rgf-python in /usr/local/lib/python3.8/dist-packages (3.12.0)\n",
            "Requirement already satisfied: scikit-learn>=0.18 in /usr/local/lib/python3.8/dist-packages (from rgf-python) (1.0.2)\n",
            "Requirement already satisfied: joblib in /usr/local/lib/python3.8/dist-packages (from rgf-python) (1.2.0)\n",
            "Requirement already satisfied: scipy>=1.1.0 in /usr/local/lib/python3.8/dist-packages (from scikit-learn>=0.18->rgf-python) (1.7.3)\n",
            "Requirement already satisfied: threadpoolctl>=2.0.0 in /usr/local/lib/python3.8/dist-packages (from scikit-learn>=0.18->rgf-python) (3.1.0)\n",
            "Requirement already satisfied: numpy>=1.14.6 in /usr/local/lib/python3.8/dist-packages (from scikit-learn>=0.18->rgf-python) (1.21.6)\n"
          ]
        }
      ],
      "source": [
        "%pip install rgf-python"
      ]
    },
    {
      "cell_type": "code",
      "execution_count": null,
      "metadata": {
        "id": "9CqqRKM2lrhQ"
      },
      "outputs": [],
      "source": [
        "''' SKLearnEstimator is the super class for a sklearn learner '''\n",
        "from flaml.model import SKLearnEstimator\n",
        "from flaml import tune\n",
        "from flaml.data import CLASSIFICATION\n",
        "\n",
        "\n",
        "class MyRegularizedGreedyForest(SKLearnEstimator):\n",
        "    def __init__(self, task='binary', **config):\n",
        "        '''Constructor\n",
        "\n",
        "        Args:\n",
        "            task: A string of the task type, one of\n",
        "                'binary', 'multiclass', 'regression'\n",
        "            config: A dictionary containing the hyperparameter names\n",
        "                and 'n_jobs' as keys. n_jobs is the number of parallel threads.\n",
        "        '''\n",
        "\n",
        "        super().__init__(task, **config)\n",
        "\n",
        "        '''task=binary or multi for classification task'''\n",
        "        if task in CLASSIFICATION:\n",
        "            from rgf.sklearn import RGFClassifier\n",
        "\n",
        "            self.estimator_class = RGFClassifier\n",
        "        else:\n",
        "            from rgf.sklearn import RGFRegressor\n",
        "\n",
        "            self.estimator_class = RGFRegressor\n",
        "\n",
        "    @classmethod\n",
        "    def search_space(cls, data_size, task):\n",
        "        '''[required method] search space\n",
        "\n",
        "        Returns:\n",
        "            A dictionary of the search space.\n",
        "            Each key is the name of a hyperparameter, and value is a dict with\n",
        "                its domain (required) and low_cost_init_value, init_value,\n",
        "                cat_hp_cost (if applicable).\n",
        "                e.g.,\n",
        "                {'domain': tune.randint(lower=1, upper=10), 'init_value': 1}.\n",
        "        '''\n",
        "        space = {\n",
        "            'max_leaf': {'domain': tune.lograndint(lower=4, upper=data_size[0]), 'init_value': 4, 'low_cost_init_value': 4},\n",
        "            'n_iter': {'domain': tune.lograndint(lower=1, upper=data_size[0]), 'init_value': 1, 'low_cost_init_value': 1},\n",
        "            'n_tree_search': {'domain': tune.lograndint(lower=1, upper=32768), 'init_value': 1, 'low_cost_init_value': 1},\n",
        "            'opt_interval': {'domain': tune.lograndint(lower=1, upper=10000), 'init_value': 100},\n",
        "            'learning_rate': {'domain': tune.loguniform(lower=0.01, upper=20.0)},\n",
        "            'min_samples_leaf': {'domain': tune.lograndint(lower=1, upper=20), 'init_value': 20},\n",
        "        }\n",
        "        return space\n",
        "\n",
        "    @classmethod\n",
        "    def size(cls, config):\n",
        "        '''[optional method] memory size of the estimator in bytes\n",
        "\n",
        "        Args:\n",
        "            config - the dict of the hyperparameter config\n",
        "\n",
        "        Returns:\n",
        "            A float of the memory size required by the estimator to train the\n",
        "            given config\n",
        "        '''\n",
        "        max_leaves = int(round(config['max_leaf']))\n",
        "        n_estimators = int(round(config['n_iter']))\n",
        "        return (max_leaves * 3 + (max_leaves - 1) * 4 + 1.0) * n_estimators * 8\n",
        "\n",
        "    @classmethod\n",
        "    def cost_relative2lgbm(cls):\n",
        "        '''[optional method] relative cost compared to lightgbm\n",
        "        '''\n",
        "        return 1.0\n"
      ]
    },
    {
      "cell_type": "markdown",
      "metadata": {
        "id": "yAc4bq5flrhQ"
      },
      "source": [
        "### Add Customized Learner and Run FLAML AutoML\n",
        "\n",
        "After adding RGF into the list of learners, we run automl by tuning hyperpameters of RGF as well as the default learners."
      ]
    },
    {
      "cell_type": "code",
      "execution_count": null,
      "metadata": {
        "id": "fYcJq9t-lrhQ"
      },
      "outputs": [],
      "source": [
        "automl = AutoML()\n",
        "automl.add_learner(learner_name='RGF', learner_class=MyRegularizedGreedyForest)"
      ]
    },
    {
      "cell_type": "code",
      "execution_count": null,
      "metadata": {
        "tags": [],
        "colab": {
          "base_uri": "https://localhost:8080/"
        },
        "id": "QdOAjFqJlrhR",
        "outputId": "f71b62d4-59de-432a-e314-cc67f70948c1"
      },
      "outputs": [
        {
          "output_type": "stream",
          "name": "stderr",
          "text": [
            "[flaml.automl: 12-08 12:13:07] {2599} INFO - task = classification\n",
            "INFO:flaml.automl:task = classification\n",
            "[flaml.automl: 12-08 12:13:07] {2601} INFO - Data split method: stratified\n",
            "INFO:flaml.automl:Data split method: stratified\n",
            "[flaml.automl: 12-08 12:13:08] {2604} INFO - Evaluation method: holdout\n",
            "INFO:flaml.automl:Evaluation method: holdout\n",
            "[flaml.automl: 12-08 12:13:08] {2726} INFO - Minimizing error metric: 1-accuracy\n",
            "INFO:flaml.automl:Minimizing error metric: 1-accuracy\n",
            "[flaml.automl: 12-08 12:13:08] {2870} INFO - List of ML learners in AutoML Run: ['RGF', 'lgbm', 'rf', 'xgboost']\n",
            "INFO:flaml.automl:List of ML learners in AutoML Run: ['RGF', 'lgbm', 'rf', 'xgboost']\n",
            "[flaml.automl: 12-08 12:13:08] {3166} INFO - iteration 0, current learner RGF\n",
            "INFO:flaml.automl:iteration 0, current learner RGF\n",
            "[flaml.automl: 12-08 12:13:11] {3296} INFO - Estimated sufficient time budget=989606s. Estimated necessary time budget=990s.\n",
            "INFO:flaml.automl:Estimated sufficient time budget=989606s. Estimated necessary time budget=990s.\n",
            "[flaml.automl: 12-08 12:13:11] {3343} INFO -  at 4.3s,\testimator RGF's best error=0.3840,\tbest estimator RGF's best error=0.3840\n",
            "INFO:flaml.automl: at 4.3s,\testimator RGF's best error=0.3840,\tbest estimator RGF's best error=0.3840\n",
            "[flaml.automl: 12-08 12:13:11] {3166} INFO - iteration 1, current learner RGF\n",
            "INFO:flaml.automl:iteration 1, current learner RGF\n",
            "[flaml.automl: 12-08 12:13:13] {3343} INFO -  at 6.2s,\testimator RGF's best error=0.3840,\tbest estimator RGF's best error=0.3840\n",
            "INFO:flaml.automl: at 6.2s,\testimator RGF's best error=0.3840,\tbest estimator RGF's best error=0.3840\n",
            "[flaml.automl: 12-08 12:13:13] {3166} INFO - iteration 2, current learner RGF\n",
            "INFO:flaml.automl:iteration 2, current learner RGF\n",
            "[flaml.automl: 12-08 12:13:15] {3343} INFO -  at 7.9s,\testimator RGF's best error=0.3840,\tbest estimator RGF's best error=0.3840\n",
            "INFO:flaml.automl: at 7.9s,\testimator RGF's best error=0.3840,\tbest estimator RGF's best error=0.3840\n",
            "[flaml.automl: 12-08 12:13:15] {3166} INFO - iteration 3, current learner lgbm\n",
            "INFO:flaml.automl:iteration 3, current learner lgbm\n",
            "[flaml.automl: 12-08 12:13:15] {3343} INFO -  at 8.0s,\testimator lgbm's best error=0.4459,\tbest estimator RGF's best error=0.3840\n",
            "INFO:flaml.automl: at 8.0s,\testimator lgbm's best error=0.4459,\tbest estimator RGF's best error=0.3840\n",
            "[flaml.automl: 12-08 12:13:15] {3166} INFO - iteration 4, current learner lgbm\n",
            "INFO:flaml.automl:iteration 4, current learner lgbm\n",
            "[flaml.automl: 12-08 12:13:15] {3343} INFO -  at 8.2s,\testimator lgbm's best error=0.4459,\tbest estimator RGF's best error=0.3840\n",
            "INFO:flaml.automl: at 8.2s,\testimator lgbm's best error=0.4459,\tbest estimator RGF's best error=0.3840\n",
            "[flaml.automl: 12-08 12:13:15] {3166} INFO - iteration 5, current learner lgbm\n",
            "INFO:flaml.automl:iteration 5, current learner lgbm\n",
            "[flaml.automl: 12-08 12:13:15] {3343} INFO -  at 8.4s,\testimator lgbm's best error=0.3777,\tbest estimator lgbm's best error=0.3777\n",
            "INFO:flaml.automl: at 8.4s,\testimator lgbm's best error=0.3777,\tbest estimator lgbm's best error=0.3777\n",
            "[flaml.automl: 12-08 12:13:15] {3166} INFO - iteration 6, current learner lgbm\n",
            "INFO:flaml.automl:iteration 6, current learner lgbm\n",
            "[flaml.automl: 12-08 12:13:15] {3343} INFO -  at 8.5s,\testimator lgbm's best error=0.3777,\tbest estimator lgbm's best error=0.3777\n",
            "INFO:flaml.automl: at 8.5s,\testimator lgbm's best error=0.3777,\tbest estimator lgbm's best error=0.3777\n",
            "[flaml.automl: 12-08 12:13:15] {3166} INFO - iteration 7, current learner lgbm\n",
            "INFO:flaml.automl:iteration 7, current learner lgbm\n",
            "[flaml.automl: 12-08 12:13:15] {3343} INFO -  at 8.6s,\testimator lgbm's best error=0.3777,\tbest estimator lgbm's best error=0.3777\n",
            "INFO:flaml.automl: at 8.6s,\testimator lgbm's best error=0.3777,\tbest estimator lgbm's best error=0.3777\n",
            "[flaml.automl: 12-08 12:13:15] {3166} INFO - iteration 8, current learner lgbm\n",
            "INFO:flaml.automl:iteration 8, current learner lgbm\n",
            "[flaml.automl: 12-08 12:13:15] {3343} INFO -  at 8.7s,\testimator lgbm's best error=0.3777,\tbest estimator lgbm's best error=0.3777\n",
            "INFO:flaml.automl: at 8.7s,\testimator lgbm's best error=0.3777,\tbest estimator lgbm's best error=0.3777\n",
            "[flaml.automl: 12-08 12:13:15] {3166} INFO - iteration 9, current learner lgbm\n",
            "INFO:flaml.automl:iteration 9, current learner lgbm\n",
            "[flaml.automl: 12-08 12:13:16] {3343} INFO -  at 8.9s,\testimator lgbm's best error=0.3777,\tbest estimator lgbm's best error=0.3777\n",
            "INFO:flaml.automl: at 8.9s,\testimator lgbm's best error=0.3777,\tbest estimator lgbm's best error=0.3777\n",
            "[flaml.automl: 12-08 12:13:16] {3166} INFO - iteration 10, current learner lgbm\n",
            "INFO:flaml.automl:iteration 10, current learner lgbm\n",
            "[flaml.automl: 12-08 12:13:16] {3343} INFO -  at 9.2s,\testimator lgbm's best error=0.3777,\tbest estimator lgbm's best error=0.3777\n",
            "INFO:flaml.automl: at 9.2s,\testimator lgbm's best error=0.3777,\tbest estimator lgbm's best error=0.3777\n",
            "[flaml.automl: 12-08 12:13:16] {3166} INFO - iteration 11, current learner lgbm\n",
            "INFO:flaml.automl:iteration 11, current learner lgbm\n",
            "[flaml.automl: 12-08 12:13:16] {3343} INFO -  at 9.7s,\testimator lgbm's best error=0.3775,\tbest estimator lgbm's best error=0.3775\n",
            "INFO:flaml.automl: at 9.7s,\testimator lgbm's best error=0.3775,\tbest estimator lgbm's best error=0.3775\n",
            "[flaml.automl: 12-08 12:13:16] {3166} INFO - iteration 12, current learner xgboost\n",
            "INFO:flaml.automl:iteration 12, current learner xgboost\n",
            "[flaml.automl: 12-08 12:13:16] {3343} INFO -  at 9.8s,\testimator xgboost's best error=0.3800,\tbest estimator lgbm's best error=0.3775\n",
            "INFO:flaml.automl: at 9.8s,\testimator xgboost's best error=0.3800,\tbest estimator lgbm's best error=0.3775\n",
            "[flaml.automl: 12-08 12:13:16] {3166} INFO - iteration 13, current learner xgboost\n",
            "INFO:flaml.automl:iteration 13, current learner xgboost\n",
            "[flaml.automl: 12-08 12:13:17] {3343} INFO -  at 9.9s,\testimator xgboost's best error=0.3800,\tbest estimator lgbm's best error=0.3775\n",
            "INFO:flaml.automl: at 9.9s,\testimator xgboost's best error=0.3800,\tbest estimator lgbm's best error=0.3775\n",
            "[flaml.automl: 12-08 12:13:17] {3166} INFO - iteration 14, current learner rf\n",
            "INFO:flaml.automl:iteration 14, current learner rf\n",
            "[flaml.automl: 12-08 12:13:17] {3343} INFO -  at 10.1s,\testimator rf's best error=0.3787,\tbest estimator lgbm's best error=0.3775\n",
            "INFO:flaml.automl: at 10.1s,\testimator rf's best error=0.3787,\tbest estimator lgbm's best error=0.3775\n",
            "[flaml.automl: 12-08 12:13:18] {3602} INFO - retrain lgbm for 1.0s\n",
            "INFO:flaml.automl:retrain lgbm for 1.0s\n",
            "[flaml.automl: 12-08 12:13:18] {3609} INFO - retrained model: LGBMClassifier(learning_rate=0.26770501231052046, max_bin=127,\n",
            "               min_child_samples=12, n_estimators=4, num_leaves=4,\n",
            "               reg_alpha=0.001348364934537134, reg_lambda=1.4442580148221913,\n",
            "               verbose=-1)\n",
            "INFO:flaml.automl:retrained model: LGBMClassifier(learning_rate=0.26770501231052046, max_bin=127,\n",
            "               min_child_samples=12, n_estimators=4, num_leaves=4,\n",
            "               reg_alpha=0.001348364934537134, reg_lambda=1.4442580148221913,\n",
            "               verbose=-1)\n",
            "[flaml.automl: 12-08 12:13:18] {2901} INFO - fit succeeded\n",
            "INFO:flaml.automl:fit succeeded\n",
            "[flaml.automl: 12-08 12:13:18] {2902} INFO - Time taken to find the best model: 9.67498779296875\n",
            "INFO:flaml.automl:Time taken to find the best model: 9.67498779296875\n",
            "[flaml.automl: 12-08 12:13:18] {2913} WARNING - Time taken to find the best model is 97% of the provided time budget and not all estimators' hyperparameter search converged. Consider increasing the time budget.\n",
            "WARNING:flaml.automl:Time taken to find the best model is 97% of the provided time budget and not all estimators' hyperparameter search converged. Consider increasing the time budget.\n"
          ]
        }
      ],
      "source": [
        "settings = {\n",
        "    \"time_budget\": 10,  # total running time in seconds\n",
        "    \"metric\": 'accuracy',\n",
        "    \"estimator_list\": ['RGF', 'lgbm', 'rf', 'xgboost'],  # list of ML learners\n",
        "    \"task\": 'classification',  # task type\n",
        "    \"log_file_name\": 'airlines_experiment_custom_learner.log',  # flaml log file\n",
        "    \"log_training_metric\": True,  # whether to log training metric\n",
        "}\n",
        "\n",
        "automl.fit(X_train=X_train, y_train=y_train, **settings)"
      ]
    },
    {
      "cell_type": "markdown",
      "metadata": {
        "id": "6EVyrjvOlrhR"
      },
      "source": [
        "## 5. Customized Metric\n",
        "\n",
        "It's also easy to customize the optimization metric. As an example, we demonstrate with a custom metric function which combines training loss and validation loss as the final loss to minimize."
      ]
    },
    {
      "cell_type": "code",
      "execution_count": null,
      "metadata": {
        "id": "89pECs1_lrhR"
      },
      "outputs": [],
      "source": [
        "def custom_metric(X_val, y_val, estimator, labels, X_train, y_train,\n",
        "                  weight_val=None, weight_train=None, config=None,\n",
        "                  groups_val=None, groups_train=None):\n",
        "    from sklearn.metrics import log_loss\n",
        "    import time\n",
        "    start = time.time()\n",
        "    y_pred = estimator.predict_proba(X_val)\n",
        "    pred_time = (time.time() - start) / len(X_val)\n",
        "    val_loss = log_loss(y_val, y_pred, labels=labels,\n",
        "                         sample_weight=weight_val)\n",
        "    y_pred = estimator.predict_proba(X_train)\n",
        "    train_loss = log_loss(y_train, y_pred, labels=labels,\n",
        "                          sample_weight=weight_train)\n",
        "    alpha = 0.5\n",
        "    return val_loss * (1 + alpha) - alpha * train_loss, {\n",
        "        \"val_loss\": val_loss, \"train_loss\": train_loss, \"pred_time\": pred_time\n",
        "    }\n",
        "    # two elements are returned:\n",
        "    # the first element is the metric to minimize as a float number,\n",
        "    # the second element is a dictionary of the metrics to log"
      ]
    },
    {
      "cell_type": "markdown",
      "metadata": {
        "id": "toIRegAOlrhR"
      },
      "source": [
        "We can then pass this custom metric function to automl's `fit` method."
      ]
    },
    {
      "cell_type": "code",
      "execution_count": null,
      "metadata": {
        "colab": {
          "base_uri": "https://localhost:8080/"
        },
        "id": "OKIIfs_rlrhR",
        "outputId": "0e26cbdc-7411-4a07-898c-256f0142edf1"
      },
      "outputs": [
        {
          "output_type": "stream",
          "name": "stderr",
          "text": [
            "[flaml.automl: 12-08 12:13:34] {2599} INFO - task = classification\n",
            "INFO:flaml.automl:task = classification\n",
            "[flaml.automl: 12-08 12:13:34] {2601} INFO - Data split method: stratified\n",
            "INFO:flaml.automl:Data split method: stratified\n",
            "[flaml.automl: 12-08 12:13:34] {2604} INFO - Evaluation method: holdout\n",
            "INFO:flaml.automl:Evaluation method: holdout\n",
            "[flaml.automl: 12-08 12:13:35] {2726} INFO - Minimizing error metric: customized metric\n",
            "INFO:flaml.automl:Minimizing error metric: customized metric\n",
            "[flaml.automl: 12-08 12:13:35] {2870} INFO - List of ML learners in AutoML Run: ['lgbm', 'rf', 'catboost', 'xgboost', 'extra_tree', 'xgb_limitdepth', 'lrl1']\n",
            "INFO:flaml.automl:List of ML learners in AutoML Run: ['lgbm', 'rf', 'catboost', 'xgboost', 'extra_tree', 'xgb_limitdepth', 'lrl1']\n",
            "[flaml.automl: 12-08 12:13:35] {3166} INFO - iteration 0, current learner lgbm\n",
            "INFO:flaml.automl:iteration 0, current learner lgbm\n",
            "[flaml.automl: 12-08 12:13:36] {3296} INFO - Estimated sufficient time budget=69473s. Estimated necessary time budget=1706s.\n",
            "INFO:flaml.automl:Estimated sufficient time budget=69473s. Estimated necessary time budget=1706s.\n",
            "[flaml.automl: 12-08 12:13:36] {3343} INFO -  at 2.2s,\testimator lgbm's best error=0.6796,\tbest estimator lgbm's best error=0.6796\n",
            "INFO:flaml.automl: at 2.2s,\testimator lgbm's best error=0.6796,\tbest estimator lgbm's best error=0.6796\n",
            "[flaml.automl: 12-08 12:13:36] {3166} INFO - iteration 1, current learner lgbm\n",
            "INFO:flaml.automl:iteration 1, current learner lgbm\n",
            "[flaml.automl: 12-08 12:13:36] {3343} INFO -  at 2.4s,\testimator lgbm's best error=0.6796,\tbest estimator lgbm's best error=0.6796\n",
            "INFO:flaml.automl: at 2.4s,\testimator lgbm's best error=0.6796,\tbest estimator lgbm's best error=0.6796\n",
            "[flaml.automl: 12-08 12:13:36] {3166} INFO - iteration 2, current learner lgbm\n",
            "INFO:flaml.automl:iteration 2, current learner lgbm\n",
            "[flaml.automl: 12-08 12:13:36] {3343} INFO -  at 2.5s,\testimator lgbm's best error=0.6491,\tbest estimator lgbm's best error=0.6491\n",
            "INFO:flaml.automl: at 2.5s,\testimator lgbm's best error=0.6491,\tbest estimator lgbm's best error=0.6491\n",
            "[flaml.automl: 12-08 12:13:36] {3166} INFO - iteration 3, current learner lgbm\n",
            "INFO:flaml.automl:iteration 3, current learner lgbm\n",
            "[flaml.automl: 12-08 12:13:36] {3343} INFO -  at 2.7s,\testimator lgbm's best error=0.6423,\tbest estimator lgbm's best error=0.6423\n",
            "INFO:flaml.automl: at 2.7s,\testimator lgbm's best error=0.6423,\tbest estimator lgbm's best error=0.6423\n",
            "[flaml.automl: 12-08 12:13:36] {3166} INFO - iteration 4, current learner lgbm\n",
            "INFO:flaml.automl:iteration 4, current learner lgbm\n",
            "[flaml.automl: 12-08 12:13:36] {3343} INFO -  at 2.8s,\testimator lgbm's best error=0.6423,\tbest estimator lgbm's best error=0.6423\n",
            "INFO:flaml.automl: at 2.8s,\testimator lgbm's best error=0.6423,\tbest estimator lgbm's best error=0.6423\n",
            "[flaml.automl: 12-08 12:13:36] {3166} INFO - iteration 5, current learner lgbm\n",
            "INFO:flaml.automl:iteration 5, current learner lgbm\n",
            "[flaml.automl: 12-08 12:13:36] {3343} INFO -  at 3.0s,\testimator lgbm's best error=0.6423,\tbest estimator lgbm's best error=0.6423\n",
            "INFO:flaml.automl: at 3.0s,\testimator lgbm's best error=0.6423,\tbest estimator lgbm's best error=0.6423\n",
            "[flaml.automl: 12-08 12:13:36] {3166} INFO - iteration 6, current learner xgboost\n",
            "INFO:flaml.automl:iteration 6, current learner xgboost\n",
            "[flaml.automl: 12-08 12:13:37] {3343} INFO -  at 3.2s,\testimator xgboost's best error=0.6680,\tbest estimator lgbm's best error=0.6423\n",
            "INFO:flaml.automl: at 3.2s,\testimator xgboost's best error=0.6680,\tbest estimator lgbm's best error=0.6423\n",
            "[flaml.automl: 12-08 12:13:37] {3166} INFO - iteration 7, current learner lgbm\n",
            "INFO:flaml.automl:iteration 7, current learner lgbm\n",
            "[flaml.automl: 12-08 12:13:37] {3343} INFO -  at 3.4s,\testimator lgbm's best error=0.6423,\tbest estimator lgbm's best error=0.6423\n",
            "INFO:flaml.automl: at 3.4s,\testimator lgbm's best error=0.6423,\tbest estimator lgbm's best error=0.6423\n",
            "[flaml.automl: 12-08 12:13:37] {3166} INFO - iteration 8, current learner lgbm\n",
            "INFO:flaml.automl:iteration 8, current learner lgbm\n",
            "[flaml.automl: 12-08 12:13:37] {3343} INFO -  at 3.6s,\testimator lgbm's best error=0.6423,\tbest estimator lgbm's best error=0.6423\n",
            "INFO:flaml.automl: at 3.6s,\testimator lgbm's best error=0.6423,\tbest estimator lgbm's best error=0.6423\n",
            "[flaml.automl: 12-08 12:13:37] {3166} INFO - iteration 9, current learner xgboost\n",
            "INFO:flaml.automl:iteration 9, current learner xgboost\n",
            "[flaml.automl: 12-08 12:13:37] {3343} INFO -  at 3.7s,\testimator xgboost's best error=0.6680,\tbest estimator lgbm's best error=0.6423\n",
            "INFO:flaml.automl: at 3.7s,\testimator xgboost's best error=0.6680,\tbest estimator lgbm's best error=0.6423\n",
            "[flaml.automl: 12-08 12:13:37] {3166} INFO - iteration 10, current learner xgboost\n",
            "INFO:flaml.automl:iteration 10, current learner xgboost\n",
            "[flaml.automl: 12-08 12:13:37] {3343} INFO -  at 3.9s,\testimator xgboost's best error=0.6512,\tbest estimator lgbm's best error=0.6423\n",
            "INFO:flaml.automl: at 3.9s,\testimator xgboost's best error=0.6512,\tbest estimator lgbm's best error=0.6423\n",
            "[flaml.automl: 12-08 12:13:37] {3166} INFO - iteration 11, current learner extra_tree\n",
            "INFO:flaml.automl:iteration 11, current learner extra_tree\n",
            "[flaml.automl: 12-08 12:13:38] {3343} INFO -  at 4.2s,\testimator extra_tree's best error=0.6777,\tbest estimator lgbm's best error=0.6423\n",
            "INFO:flaml.automl: at 4.2s,\testimator extra_tree's best error=0.6777,\tbest estimator lgbm's best error=0.6423\n",
            "[flaml.automl: 12-08 12:13:38] {3166} INFO - iteration 12, current learner xgboost\n",
            "INFO:flaml.automl:iteration 12, current learner xgboost\n",
            "[flaml.automl: 12-08 12:13:38] {3343} INFO -  at 4.5s,\testimator xgboost's best error=0.6502,\tbest estimator lgbm's best error=0.6423\n",
            "INFO:flaml.automl: at 4.5s,\testimator xgboost's best error=0.6502,\tbest estimator lgbm's best error=0.6423\n",
            "[flaml.automl: 12-08 12:13:38] {3166} INFO - iteration 13, current learner extra_tree\n",
            "INFO:flaml.automl:iteration 13, current learner extra_tree\n",
            "[flaml.automl: 12-08 12:13:38] {3343} INFO -  at 4.7s,\testimator extra_tree's best error=0.6632,\tbest estimator lgbm's best error=0.6423\n",
            "INFO:flaml.automl: at 4.7s,\testimator extra_tree's best error=0.6632,\tbest estimator lgbm's best error=0.6423\n",
            "[flaml.automl: 12-08 12:13:38] {3166} INFO - iteration 14, current learner rf\n",
            "INFO:flaml.automl:iteration 14, current learner rf\n",
            "[flaml.automl: 12-08 12:13:38] {3343} INFO -  at 4.9s,\testimator rf's best error=0.6501,\tbest estimator lgbm's best error=0.6423\n",
            "INFO:flaml.automl: at 4.9s,\testimator rf's best error=0.6501,\tbest estimator lgbm's best error=0.6423\n",
            "[flaml.automl: 12-08 12:13:38] {3166} INFO - iteration 15, current learner rf\n",
            "INFO:flaml.automl:iteration 15, current learner rf\n",
            "[flaml.automl: 12-08 12:13:38] {3343} INFO -  at 5.1s,\testimator rf's best error=0.6501,\tbest estimator lgbm's best error=0.6423\n",
            "INFO:flaml.automl: at 5.1s,\testimator rf's best error=0.6501,\tbest estimator lgbm's best error=0.6423\n",
            "[flaml.automl: 12-08 12:13:38] {3166} INFO - iteration 16, current learner rf\n",
            "INFO:flaml.automl:iteration 16, current learner rf\n",
            "[flaml.automl: 12-08 12:13:39] {3343} INFO -  at 5.4s,\testimator rf's best error=0.6501,\tbest estimator lgbm's best error=0.6423\n",
            "INFO:flaml.automl: at 5.4s,\testimator rf's best error=0.6501,\tbest estimator lgbm's best error=0.6423\n",
            "[flaml.automl: 12-08 12:13:39] {3166} INFO - iteration 17, current learner extra_tree\n",
            "INFO:flaml.automl:iteration 17, current learner extra_tree\n",
            "[flaml.automl: 12-08 12:13:39] {3343} INFO -  at 5.5s,\testimator extra_tree's best error=0.6632,\tbest estimator lgbm's best error=0.6423\n",
            "INFO:flaml.automl: at 5.5s,\testimator extra_tree's best error=0.6632,\tbest estimator lgbm's best error=0.6423\n",
            "[flaml.automl: 12-08 12:13:39] {3166} INFO - iteration 18, current learner lgbm\n",
            "INFO:flaml.automl:iteration 18, current learner lgbm\n",
            "[flaml.automl: 12-08 12:13:39] {3343} INFO -  at 5.6s,\testimator lgbm's best error=0.6417,\tbest estimator lgbm's best error=0.6417\n",
            "INFO:flaml.automl: at 5.6s,\testimator lgbm's best error=0.6417,\tbest estimator lgbm's best error=0.6417\n",
            "[flaml.automl: 12-08 12:13:39] {3166} INFO - iteration 19, current learner rf\n",
            "INFO:flaml.automl:iteration 19, current learner rf\n",
            "[flaml.automl: 12-08 12:13:39] {3343} INFO -  at 5.7s,\testimator rf's best error=0.6501,\tbest estimator lgbm's best error=0.6417\n",
            "INFO:flaml.automl: at 5.7s,\testimator rf's best error=0.6501,\tbest estimator lgbm's best error=0.6417\n",
            "[flaml.automl: 12-08 12:13:39] {3166} INFO - iteration 20, current learner lgbm\n",
            "INFO:flaml.automl:iteration 20, current learner lgbm\n",
            "[flaml.automl: 12-08 12:13:39] {3343} INFO -  at 5.8s,\testimator lgbm's best error=0.6417,\tbest estimator lgbm's best error=0.6417\n",
            "INFO:flaml.automl: at 5.8s,\testimator lgbm's best error=0.6417,\tbest estimator lgbm's best error=0.6417\n",
            "[flaml.automl: 12-08 12:13:39] {3166} INFO - iteration 21, current learner rf\n",
            "INFO:flaml.automl:iteration 21, current learner rf\n",
            "[flaml.automl: 12-08 12:13:39] {3343} INFO -  at 6.0s,\testimator rf's best error=0.6479,\tbest estimator lgbm's best error=0.6417\n",
            "INFO:flaml.automl: at 6.0s,\testimator rf's best error=0.6479,\tbest estimator lgbm's best error=0.6417\n",
            "[flaml.automl: 12-08 12:13:39] {3166} INFO - iteration 22, current learner lgbm\n",
            "INFO:flaml.automl:iteration 22, current learner lgbm\n",
            "[flaml.automl: 12-08 12:13:39] {3343} INFO -  at 6.0s,\testimator lgbm's best error=0.6417,\tbest estimator lgbm's best error=0.6417\n",
            "INFO:flaml.automl: at 6.0s,\testimator lgbm's best error=0.6417,\tbest estimator lgbm's best error=0.6417\n",
            "[flaml.automl: 12-08 12:13:39] {3166} INFO - iteration 23, current learner lgbm\n",
            "INFO:flaml.automl:iteration 23, current learner lgbm\n",
            "[flaml.automl: 12-08 12:13:39] {3343} INFO -  at 6.1s,\testimator lgbm's best error=0.6417,\tbest estimator lgbm's best error=0.6417\n",
            "INFO:flaml.automl: at 6.1s,\testimator lgbm's best error=0.6417,\tbest estimator lgbm's best error=0.6417\n",
            "[flaml.automl: 12-08 12:13:39] {3166} INFO - iteration 24, current learner extra_tree\n",
            "INFO:flaml.automl:iteration 24, current learner extra_tree\n",
            "[flaml.automl: 12-08 12:13:40] {3343} INFO -  at 6.2s,\testimator extra_tree's best error=0.6632,\tbest estimator lgbm's best error=0.6417\n",
            "INFO:flaml.automl: at 6.2s,\testimator extra_tree's best error=0.6632,\tbest estimator lgbm's best error=0.6417\n",
            "[flaml.automl: 12-08 12:13:40] {3166} INFO - iteration 25, current learner extra_tree\n",
            "INFO:flaml.automl:iteration 25, current learner extra_tree\n",
            "[flaml.automl: 12-08 12:13:40] {3343} INFO -  at 6.3s,\testimator extra_tree's best error=0.6477,\tbest estimator lgbm's best error=0.6417\n",
            "INFO:flaml.automl: at 6.3s,\testimator extra_tree's best error=0.6477,\tbest estimator lgbm's best error=0.6417\n",
            "[flaml.automl: 12-08 12:13:40] {3166} INFO - iteration 26, current learner lgbm\n",
            "INFO:flaml.automl:iteration 26, current learner lgbm\n",
            "[flaml.automl: 12-08 12:13:40] {3343} INFO -  at 6.4s,\testimator lgbm's best error=0.6417,\tbest estimator lgbm's best error=0.6417\n",
            "INFO:flaml.automl: at 6.4s,\testimator lgbm's best error=0.6417,\tbest estimator lgbm's best error=0.6417\n",
            "[flaml.automl: 12-08 12:13:40] {3166} INFO - iteration 27, current learner extra_tree\n",
            "INFO:flaml.automl:iteration 27, current learner extra_tree\n",
            "[flaml.automl: 12-08 12:13:40] {3343} INFO -  at 6.5s,\testimator extra_tree's best error=0.6477,\tbest estimator lgbm's best error=0.6417\n",
            "INFO:flaml.automl: at 6.5s,\testimator extra_tree's best error=0.6477,\tbest estimator lgbm's best error=0.6417\n",
            "[flaml.automl: 12-08 12:13:40] {3166} INFO - iteration 28, current learner extra_tree\n",
            "INFO:flaml.automl:iteration 28, current learner extra_tree\n",
            "[flaml.automl: 12-08 12:13:40] {3343} INFO -  at 6.6s,\testimator extra_tree's best error=0.6477,\tbest estimator lgbm's best error=0.6417\n",
            "INFO:flaml.automl: at 6.6s,\testimator extra_tree's best error=0.6477,\tbest estimator lgbm's best error=0.6417\n",
            "[flaml.automl: 12-08 12:13:40] {3166} INFO - iteration 29, current learner extra_tree\n",
            "INFO:flaml.automl:iteration 29, current learner extra_tree\n",
            "[flaml.automl: 12-08 12:13:40] {3343} INFO -  at 6.7s,\testimator extra_tree's best error=0.6477,\tbest estimator lgbm's best error=0.6417\n",
            "INFO:flaml.automl: at 6.7s,\testimator extra_tree's best error=0.6477,\tbest estimator lgbm's best error=0.6417\n",
            "[flaml.automl: 12-08 12:13:40] {3166} INFO - iteration 30, current learner lgbm\n",
            "INFO:flaml.automl:iteration 30, current learner lgbm\n",
            "[flaml.automl: 12-08 12:13:40] {3343} INFO -  at 6.8s,\testimator lgbm's best error=0.6417,\tbest estimator lgbm's best error=0.6417\n",
            "INFO:flaml.automl: at 6.8s,\testimator lgbm's best error=0.6417,\tbest estimator lgbm's best error=0.6417\n",
            "[flaml.automl: 12-08 12:13:40] {3166} INFO - iteration 31, current learner lgbm\n",
            "INFO:flaml.automl:iteration 31, current learner lgbm\n",
            "[flaml.automl: 12-08 12:13:40] {3343} INFO -  at 7.0s,\testimator lgbm's best error=0.6362,\tbest estimator lgbm's best error=0.6362\n",
            "INFO:flaml.automl: at 7.0s,\testimator lgbm's best error=0.6362,\tbest estimator lgbm's best error=0.6362\n",
            "[flaml.automl: 12-08 12:13:40] {3166} INFO - iteration 32, current learner lgbm\n",
            "INFO:flaml.automl:iteration 32, current learner lgbm\n",
            "[flaml.automl: 12-08 12:13:40] {3343} INFO -  at 7.2s,\testimator lgbm's best error=0.6362,\tbest estimator lgbm's best error=0.6362\n",
            "INFO:flaml.automl: at 7.2s,\testimator lgbm's best error=0.6362,\tbest estimator lgbm's best error=0.6362\n",
            "[flaml.automl: 12-08 12:13:40] {3166} INFO - iteration 33, current learner extra_tree\n",
            "INFO:flaml.automl:iteration 33, current learner extra_tree\n",
            "[flaml.automl: 12-08 12:13:41] {3343} INFO -  at 7.3s,\testimator extra_tree's best error=0.6477,\tbest estimator lgbm's best error=0.6362\n",
            "INFO:flaml.automl: at 7.3s,\testimator extra_tree's best error=0.6477,\tbest estimator lgbm's best error=0.6362\n",
            "[flaml.automl: 12-08 12:13:41] {3166} INFO - iteration 34, current learner lgbm\n",
            "INFO:flaml.automl:iteration 34, current learner lgbm\n",
            "[flaml.automl: 12-08 12:13:41] {3343} INFO -  at 7.4s,\testimator lgbm's best error=0.6362,\tbest estimator lgbm's best error=0.6362\n",
            "INFO:flaml.automl: at 7.4s,\testimator lgbm's best error=0.6362,\tbest estimator lgbm's best error=0.6362\n",
            "[flaml.automl: 12-08 12:13:41] {3166} INFO - iteration 35, current learner lgbm\n",
            "INFO:flaml.automl:iteration 35, current learner lgbm\n",
            "[flaml.automl: 12-08 12:13:41] {3343} INFO -  at 7.6s,\testimator lgbm's best error=0.6362,\tbest estimator lgbm's best error=0.6362\n",
            "INFO:flaml.automl: at 7.6s,\testimator lgbm's best error=0.6362,\tbest estimator lgbm's best error=0.6362\n",
            "[flaml.automl: 12-08 12:13:41] {3166} INFO - iteration 36, current learner extra_tree\n",
            "INFO:flaml.automl:iteration 36, current learner extra_tree\n",
            "[flaml.automl: 12-08 12:13:41] {3343} INFO -  at 7.7s,\testimator extra_tree's best error=0.6477,\tbest estimator lgbm's best error=0.6362\n",
            "INFO:flaml.automl: at 7.7s,\testimator extra_tree's best error=0.6477,\tbest estimator lgbm's best error=0.6362\n",
            "[flaml.automl: 12-08 12:13:41] {3166} INFO - iteration 37, current learner lgbm\n",
            "INFO:flaml.automl:iteration 37, current learner lgbm\n",
            "[flaml.automl: 12-08 12:13:41] {3343} INFO -  at 7.8s,\testimator lgbm's best error=0.6362,\tbest estimator lgbm's best error=0.6362\n",
            "INFO:flaml.automl: at 7.8s,\testimator lgbm's best error=0.6362,\tbest estimator lgbm's best error=0.6362\n",
            "[flaml.automl: 12-08 12:13:41] {3166} INFO - iteration 38, current learner xgboost\n",
            "INFO:flaml.automl:iteration 38, current learner xgboost\n",
            "[flaml.automl: 12-08 12:13:41] {3343} INFO -  at 7.9s,\testimator xgboost's best error=0.6502,\tbest estimator lgbm's best error=0.6362\n",
            "INFO:flaml.automl: at 7.9s,\testimator xgboost's best error=0.6502,\tbest estimator lgbm's best error=0.6362\n",
            "[flaml.automl: 12-08 12:13:41] {3166} INFO - iteration 39, current learner lgbm\n",
            "INFO:flaml.automl:iteration 39, current learner lgbm\n",
            "[flaml.automl: 12-08 12:13:41] {3343} INFO -  at 8.0s,\testimator lgbm's best error=0.6362,\tbest estimator lgbm's best error=0.6362\n",
            "INFO:flaml.automl: at 8.0s,\testimator lgbm's best error=0.6362,\tbest estimator lgbm's best error=0.6362\n",
            "[flaml.automl: 12-08 12:13:41] {3166} INFO - iteration 40, current learner extra_tree\n",
            "INFO:flaml.automl:iteration 40, current learner extra_tree\n",
            "[flaml.automl: 12-08 12:13:41] {3343} INFO -  at 8.2s,\testimator extra_tree's best error=0.6456,\tbest estimator lgbm's best error=0.6362\n",
            "INFO:flaml.automl: at 8.2s,\testimator extra_tree's best error=0.6456,\tbest estimator lgbm's best error=0.6362\n",
            "[flaml.automl: 12-08 12:13:41] {3166} INFO - iteration 41, current learner rf\n",
            "INFO:flaml.automl:iteration 41, current learner rf\n",
            "[flaml.automl: 12-08 12:13:42] {3343} INFO -  at 8.3s,\testimator rf's best error=0.6479,\tbest estimator lgbm's best error=0.6362\n",
            "INFO:flaml.automl: at 8.3s,\testimator rf's best error=0.6479,\tbest estimator lgbm's best error=0.6362\n",
            "[flaml.automl: 12-08 12:13:42] {3166} INFO - iteration 42, current learner lgbm\n",
            "INFO:flaml.automl:iteration 42, current learner lgbm\n",
            "[flaml.automl: 12-08 12:13:42] {3343} INFO -  at 8.4s,\testimator lgbm's best error=0.6362,\tbest estimator lgbm's best error=0.6362\n",
            "INFO:flaml.automl: at 8.4s,\testimator lgbm's best error=0.6362,\tbest estimator lgbm's best error=0.6362\n",
            "[flaml.automl: 12-08 12:13:42] {3166} INFO - iteration 43, current learner lgbm\n",
            "INFO:flaml.automl:iteration 43, current learner lgbm\n",
            "[flaml.automl: 12-08 12:13:43] {3343} INFO -  at 10.0s,\testimator lgbm's best error=0.6284,\tbest estimator lgbm's best error=0.6284\n",
            "INFO:flaml.automl: at 10.0s,\testimator lgbm's best error=0.6284,\tbest estimator lgbm's best error=0.6284\n",
            "[flaml.automl: 12-08 12:13:45] {3602} INFO - retrain lgbm for 1.6s\n",
            "INFO:flaml.automl:retrain lgbm for 1.6s\n",
            "[flaml.automl: 12-08 12:13:45] {3609} INFO - retrained model: LGBMClassifier(colsample_bytree=0.8591464191448509,\n",
            "               learning_rate=0.40106881032023267, max_bin=1023,\n",
            "               min_child_samples=7, n_estimators=46, num_leaves=4,\n",
            "               reg_alpha=0.0009765625, reg_lambda=0.1458645420529982,\n",
            "               verbose=-1)\n",
            "INFO:flaml.automl:retrained model: LGBMClassifier(colsample_bytree=0.8591464191448509,\n",
            "               learning_rate=0.40106881032023267, max_bin=1023,\n",
            "               min_child_samples=7, n_estimators=46, num_leaves=4,\n",
            "               reg_alpha=0.0009765625, reg_lambda=0.1458645420529982,\n",
            "               verbose=-1)\n",
            "[flaml.automl: 12-08 12:13:45] {2901} INFO - fit succeeded\n",
            "INFO:flaml.automl:fit succeeded\n",
            "[flaml.automl: 12-08 12:13:45] {2902} INFO - Time taken to find the best model: 10.026883125305176\n",
            "INFO:flaml.automl:Time taken to find the best model: 10.026883125305176\n",
            "[flaml.automl: 12-08 12:13:45] {2913} WARNING - Time taken to find the best model is 100% of the provided time budget and not all estimators' hyperparameter search converged. Consider increasing the time budget.\n",
            "WARNING:flaml.automl:Time taken to find the best model is 100% of the provided time budget and not all estimators' hyperparameter search converged. Consider increasing the time budget.\n"
          ]
        }
      ],
      "source": [
        "automl = AutoML()\n",
        "settings = {\n",
        "    \"time_budget\": 10,  # total running time in seconds\n",
        "    \"metric\": custom_metric,  # pass the custom metric funtion here\n",
        "    \"task\": 'classification',  # task type\n",
        "    \"log_file_name\": 'airlines_experiment_custom_metric.log',  # flaml log file\n",
        "}\n",
        "\n",
        "automl.fit(X_train=X_train, y_train=y_train, **settings)"
      ]
    },
    {
      "cell_type": "code",
      "source": [],
      "metadata": {
        "id": "BmDgO5fIp7zN"
      },
      "execution_count": null,
      "outputs": []
    }
  ],
  "metadata": {
    "kernelspec": {
      "display_name": "Python 3.9.15 64-bit",
      "language": "python",
      "name": "python3"
    },
    "language_info": {
      "codemirror_mode": {
        "name": "ipython",
        "version": 3
      },
      "file_extension": ".py",
      "mimetype": "text/x-python",
      "name": "python",
      "nbconvert_exporter": "python",
      "pygments_lexer": "ipython3",
      "version": "3.9.15"
    },
    "vscode": {
      "interpreter": {
        "hash": "949777d72b0d2535278d3dc13498b2535136f6dfe0678499012e853ee9abcab1"
      }
    },
    "colab": {
      "provenance": []
    }
  },
  "nbformat": 4,
  "nbformat_minor": 0
}